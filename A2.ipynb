{
 "cells": [
  {
   "cell_type": "code",
   "execution_count": 1,
   "metadata": {},
   "outputs": [],
   "source": [
    "# import modules\n",
    "import nltk\n",
    "import itertools\n",
    "import gensim\n",
    "import string\n",
    "import numpy as np\n",
    "import pandas as pd\n",
    "import seaborn as sns\n",
    "import matplotlib.pyplot as plt\n",
    "import gensim.corpora as corpora\n",
    "from sklearn.datasets import fetch_20newsgroups\n",
    "from nltk.tokenize import sent_tokenize\n",
    "from nltk.tokenize import word_tokenize\n",
    "from gensim.utils import simple_preprocess\n",
    "from gensim.models import CoherenceModel\n",
    "from nltk.corpus import stopwords\n",
    "from nltk.probability import FreqDist\n",
    "from nltk.stem import PorterStemmer\n",
    "from nltk.corpus import words\n",
    "from sklearn.feature_extraction.text import TfidfTransformer\n",
    "from sklearn.feature_extraction.text import CountVectorizer\n",
    "from sklearn.model_selection import train_test_split\n",
    "from sklearn.naive_bayes import MultinomialNB\n",
    "from sklearn.linear_model import SGDClassifier\n",
    "from sklearn.pipeline import Pipeline\n",
    "from sklearn.metrics import accuracy_score\n",
    "from sklearn.metrics import confusion_matrix\n",
    "from sklearn.svm import SVC"
   ]
  },
  {
   "cell_type": "markdown",
   "metadata": {},
   "source": [
    "# Question 1"
   ]
  },
  {
   "cell_type": "code",
   "execution_count": 2,
   "metadata": {},
   "outputs": [],
   "source": [
    "# As required in the assignment, we are interested for only four newsgroups. Thus, let's load only those newsgroups.\n",
    "# https://scikit-learn.org/0.19/datasets/twenty_newsgroups.html\n",
    "categories = ['alt.atheism', 'talk.religion.misc', 'comp.graphics', 'sci.space']\n",
    "newsgroups_train = fetch_20newsgroups(categories=categories, subset='all', remove=('headers', 'footers', 'quotes'))"
   ]
  },
  {
   "cell_type": "code",
   "execution_count": 3,
   "metadata": {},
   "outputs": [
    {
     "data": {
      "text/plain": [
       "['alt.atheism', 'comp.graphics', 'sci.space', 'talk.religion.misc']"
      ]
     },
     "execution_count": 3,
     "metadata": {},
     "output_type": "execute_result"
    }
   ],
   "source": [
    "# Let's check newsgroups\n",
    "newsgroups_train.target_names"
   ]
  },
  {
   "cell_type": "code",
   "execution_count": 4,
   "metadata": {},
   "outputs": [],
   "source": [
    "# Let's assign features to variable named data\n",
    "data = newsgroups_train.data"
   ]
  },
  {
   "cell_type": "code",
   "execution_count": 5,
   "metadata": {},
   "outputs": [
    {
     "data": {
      "text/plain": [
       "3387"
      ]
     },
     "execution_count": 5,
     "metadata": {},
     "output_type": "execute_result"
    }
   ],
   "source": [
    "# Let's check total number of instances in data\n",
    "len(data)"
   ]
  },
  {
   "cell_type": "code",
   "execution_count": 6,
   "metadata": {},
   "outputs": [
    {
     "name": "stderr",
     "output_type": "stream",
     "text": [
      "[nltk_data] Downloading package stopwords to\n",
      "[nltk_data]     C:\\Users\\lenovo\\AppData\\Roaming\\nltk_data...\n",
      "[nltk_data]   Package stopwords is already up-to-date!\n",
      "[nltk_data] Downloading package punkt to\n",
      "[nltk_data]     C:\\Users\\lenovo\\AppData\\Roaming\\nltk_data...\n",
      "[nltk_data]   Package punkt is already up-to-date!\n",
      "[nltk_data] Downloading package averaged_perceptron_tagger to\n",
      "[nltk_data]     C:\\Users\\lenovo\\AppData\\Roaming\\nltk_data...\n",
      "[nltk_data]   Package averaged_perceptron_tagger is already up-to-\n",
      "[nltk_data]       date!\n",
      "[nltk_data] Downloading package words to\n",
      "[nltk_data]     C:\\Users\\lenovo\\AppData\\Roaming\\nltk_data...\n",
      "[nltk_data]   Package words is already up-to-date!\n"
     ]
    },
    {
     "data": {
      "text/plain": [
       "True"
      ]
     },
     "execution_count": 6,
     "metadata": {},
     "output_type": "execute_result"
    }
   ],
   "source": [
    "# Downloading required nltk packages\n",
    "nltk.download('stopwords')\n",
    "nltk.download('punkt')\n",
    "nltk.download('averaged_perceptron_tagger')\n",
    "nltk.download('words')"
   ]
  },
  {
   "cell_type": "markdown",
   "metadata": {},
   "source": [
    "### Q1 (a), tokenizing the corpus and adding POS tags"
   ]
  },
  {
   "cell_type": "code",
   "execution_count": 7,
   "metadata": {},
   "outputs": [],
   "source": [
    "# Here, we are performing additional operations on the word of each list other than tokenizing. \n",
    "# 1. Converting the word to lower\n",
    "# 2. Removing words with only digits. For example '1', '2.5'\n",
    "# 3. Splitting word from number or special characters.\n",
    "#    example: if word is 'abc3ef!ghi', it will be converted as\n",
    "#             ['abc', 'ef','ghi']\n",
    "# example: Let's say data is like ['A B C.', 'A,', 'B C D']. After tokenization, the data would be \n",
    "# [[A,B,C], [A], [B,C,D]]\n",
    "# https://www.nltk.org/api/nltk.tokenize.html\n",
    "def clean_text(text_list):\n",
    "    build_list = []\n",
    "    for word in text_list:\n",
    "        new_list = []\n",
    "        flag = 0   # It will be changed to 1 if digit or special character is found in a word\n",
    "        new_word = ''   # a character will be appended in this string till digit or special character is found or last index is reached\n",
    "        word = word.lower()   # Change word to lower\n",
    "        for i in word:\n",
    "            if i.isdigit() or i in \"!@#$%^&*()+`~'.\":\n",
    "                if (new_word != '' and len(new_word) > 1):   # remove a word with length 1 too\n",
    "                    new_list.append(new_word)\n",
    "                flag = 1\n",
    "                new_word = ''\n",
    "            else:\n",
    "                new_word = new_word + i\n",
    "        if (flag == 0 and len(word)>1):\n",
    "            new_list.append(word)\n",
    "        build_list.extend(new_list)\n",
    "    return build_list\n",
    "    \n",
    "def sentence_to_words(sentences):\n",
    "    make_list = []\n",
    "    for sentence in sentences:\n",
    "        temp_list = word_tokenize(sentence)\n",
    "        temp_list = list(filter(lambda token: token not in string.punctuation, temp_list))   # https://stackoverflow.com/a/56847275\n",
    "        temp_list = [x for x in temp_list if not (x.isdigit() or x[0] == '-' and x[1:].isdigit())]   # https://stackoverflow.com/a/3159166/8243992\n",
    "        make_list.append(clean_text(temp_list))\n",
    "    return make_list\n",
    "\n",
    "data_words = sentence_to_words(data)  "
   ]
  },
  {
   "cell_type": "code",
   "execution_count": 8,
   "metadata": {},
   "outputs": [
    {
     "data": {
      "text/plain": [
       "107"
      ]
     },
     "execution_count": 8,
     "metadata": {},
     "output_type": "execute_result"
    }
   ],
   "source": [
    "# let's check number of words in first instance.\n",
    "len(data_words[0])"
   ]
  },
  {
   "cell_type": "code",
   "execution_count": 9,
   "metadata": {},
   "outputs": [],
   "source": [
    "# Part-of-speech tagging. The POS tagging is done using nltk library.\n",
    "# https://www.nltk.org/book/ch05.html\n",
    "# example: Our data would be [[(A,NN), (B,IN), (C,JJ)], [(A,NN)], [(B,IN),(C,JJ),(D,VBP)]]\n",
    "def add_pos_tag(texts):\n",
    "    build_list = []   # this list will be returned\n",
    "    for doc in texts:\n",
    "        build_list.append(nltk.pos_tag(doc))\n",
    "    return build_list\n",
    "data_words_pos = add_pos_tag(data_words)"
   ]
  },
  {
   "cell_type": "code",
   "execution_count": 10,
   "metadata": {},
   "outputs": [
    {
     "name": "stdout",
     "output_type": "stream",
     "text": [
      "[('my', 'PRP$'), ('point', 'NN'), ('is', 'VBZ'), ('that', 'IN'), ('you', 'PRP'), ('set', 'VBP'), ('up', 'RP'), ('your', 'PRP$'), ('views', 'NNS'), ('as', 'IN'), ('the', 'DT'), ('only', 'JJ'), ('way', 'NN'), ('to', 'TO'), ('believe', 'VB'), ('saying', 'VBG'), ('that', 'IN'), ('all', 'DT'), ('eveil', 'NN'), ('in', 'IN'), ('this', 'DT'), ('world', 'NN'), ('is', 'VBZ'), ('caused', 'VBN'), ('by', 'IN'), ('atheism', 'NN'), ('is', 'VBZ'), ('ridiculous', 'JJ'), ('and', 'CC'), ('counterproductive', 'JJ'), ('to', 'TO'), ('dialogue', 'VB'), ('in', 'IN'), ('this', 'DT'), ('newsgroups', 'NNS'), ('see', 'VBP'), ('in', 'IN'), ('your', 'PRP$'), ('posts', 'NNS'), ('spirit', 'NN'), ('of', 'IN'), ('condemnation', 'NN'), ('of', 'IN'), ('the', 'DT'), ('atheists', 'NNS'), ('in', 'IN'), ('this', 'DT'), ('newsgroup', 'NN'), ('bacause', 'IN'), ('they', 'PRP'), ('don', 'VBP'), ('believe', 'VBP'), ('exactly', 'RB'), ('as', 'IN'), ('you', 'PRP'), ('do', 'VBP'), ('if', 'IN'), ('you', 'PRP'), ('here', 'RB'), ('to', 'TO'), ('try', 'VB'), ('to', 'TO'), ('convert', 'VB'), ('the', 'DT'), ('atheists', 'NNS'), ('here', 'RB'), ('you', 'PRP'), ('failing', 'VBG'), ('miserably', 'RB'), ('who', 'WP'), ('wants', 'VBZ'), ('to', 'TO'), ('be', 'VB'), ('in', 'IN'), ('position', 'NN'), ('of', 'IN'), ('constantly', 'RB'), ('defending', 'VBG'), ('themselves', 'PRP'), ('agaist', 'JJ'), ('insulting', 'VBG'), ('attacks', 'NNS'), ('like', 'IN'), ('you', 'PRP'), ('seem', 'VBP'), ('to', 'TO'), ('like', 'VB'), ('to', 'TO'), ('do', 'VB'), ('sorry', 'VB'), ('you', 'PRP'), ('so', 'RB'), ('blind', 'VB'), ('that', 'IN'), ('you', 'PRP'), ('did', 'VBD'), ('get', 'VB'), ('the', 'DT'), ('messgae', 'NN'), ('in', 'IN'), ('the', 'DT'), ('quote', 'NN'), ('everyone', 'NN'), ('else', 'RB'), ('has', 'VBZ'), ('seemed', 'VBN'), ('to', 'TO')]\n"
     ]
    }
   ],
   "source": [
    "# Let's check words and POS tag for first instance.\n",
    "print(data_words_pos[0])"
   ]
  },
  {
   "cell_type": "code",
   "execution_count": 11,
   "metadata": {},
   "outputs": [],
   "source": [
    "# Now, we are cleaning the data before applying collocation checking.\n",
    "# It is done here because if the data is not cleaned and stop words are not removed, it is highly probable that stopwords\n",
    "# will appear as collocation. Ergo, it is vital to remove stop words and perform cleaning steps in advance before \n",
    "# checking collocation.\n",
    "# Q2 (a), cleaning corpus.\n",
    "# Removing stopwords.\n",
    "# https://www.nltk.org/book/ch02.html\n",
    "# https://radimrehurek.com/gensim/utils.html\n",
    "# example: Our data would be [[A, B, C], [A], [B, C]]\n",
    "stop_words = stopwords.words()   # consider all stopwords instead of taking only English ones\n",
    "def remove_stopwords(texts):\n",
    "    return [[word for word in simple_preprocess(str(doc)) if word not in stop_words] for doc in texts]\n",
    "data_words_nostop_words = remove_stopwords(data_words)"
   ]
  },
  {
   "cell_type": "code",
   "execution_count": 12,
   "metadata": {},
   "outputs": [
    {
     "data": {
      "text/plain": [
       "45"
      ]
     },
     "execution_count": 12,
     "metadata": {},
     "output_type": "execute_result"
    }
   ],
   "source": [
    "# Let's check number of words left in first intance. The reduced number indicates large number of stopwords have \n",
    "# been removed from the corpus (Below number is for first element-text of list. There are 3387 lists).\n",
    "len(data_words_nostop_words[0])"
   ]
  },
  {
   "cell_type": "code",
   "execution_count": 13,
   "metadata": {},
   "outputs": [],
   "source": [
    "# Let's stem the words.\n",
    "# http://www.nltk.org/howto/stem.html\n",
    "# example: Our data would be [[A, B, C], [A], [B, C]] with stemmed word.\n",
    "ps = PorterStemmer()\n",
    "def stem_words(texts):\n",
    "    return [[ps.stem(word) for word in simple_preprocess(str(doc))] for doc in texts]\n",
    "data_words_nostop_words_stem = stem_words(data_words_nostop_words)"
   ]
  },
  {
   "cell_type": "code",
   "execution_count": 14,
   "metadata": {},
   "outputs": [
    {
     "data": {
      "text/plain": [
       "45"
      ]
     },
     "execution_count": 14,
     "metadata": {},
     "output_type": "execute_result"
    }
   ],
   "source": [
    "# Number of words in first instance.\n",
    "len(data_words_nostop_words_stem[0])"
   ]
  },
  {
   "cell_type": "code",
   "execution_count": 15,
   "metadata": {},
   "outputs": [],
   "source": [
    "# Now, in order to check collocations, we need to generate a list containing all words of inner lists.\n",
    "# Here, we have passed list with no stop words instead of stemmed words. \n",
    "# The purpose is just to get readable words.\n",
    "# For example, our list till now was like [ [A,B,C], [A] , [B,C]]. We need to generate list such as\n",
    "# [A,B,C,A,B,C]. Below function is written to generate such list.\n",
    "def join_list(texts):\n",
    "    build_list = []\n",
    "    for doc in texts:\n",
    "        build_list.extend(doc)\n",
    "    return build_list\n",
    "join_data_words_nostops = join_list(data_words_nostop_words)"
   ]
  },
  {
   "cell_type": "code",
   "execution_count": 16,
   "metadata": {},
   "outputs": [
    {
     "data": {
      "text/plain": [
       "351478"
      ]
     },
     "execution_count": 16,
     "metadata": {},
     "output_type": "execute_result"
    }
   ],
   "source": [
    "# Let's check total number of elements in newly generated list.\n",
    "len(join_data_words_nostops)"
   ]
  },
  {
   "cell_type": "markdown",
   "metadata": {},
   "source": [
    "### Q1 (b), identifying collocations"
   ]
  },
  {
   "cell_type": "code",
   "execution_count": 17,
   "metadata": {},
   "outputs": [],
   "source": [
    "# The first method is frequency with filter.\n",
    "# https://github.com/nicharuc/Collocations/blob/master/Collocations.ipynb\n",
    "# https://medium.com/@nicharuch/collocations-identifying-phrases-that-act-like-individual-words-in-nlp-f58a93a2f84a\n",
    "bigrams = nltk.collocations.BigramAssocMeasures()\n",
    "bigramFinder = nltk.collocations.BigramCollocationFinder.from_words(join_data_words_nostops)\n",
    "bigram_freq = bigramFinder.ngram_fd.items()\n",
    "bigramFreqTable = pd.DataFrame(list(bigram_freq), columns=['bigram','freq']).sort_values(by='freq', ascending=False)\n",
    "\n",
    "# Now, let's filter the words. To get better collocations, we can filter results such that the first word is noun/ adjective\n",
    "# and the second word is noun.\n",
    "# function to filter for ADJ/NN bigrams\n",
    "def rightTypes(ngram):\n",
    "    acceptable_types = ('JJ', 'JJR', 'JJS', 'NN', 'NNS', 'NNP', 'NNPS')   # First word should be adjective/ noun\n",
    "    second_type = ('NN', 'NNS', 'NNP', 'NNPS')   # Second word should be noun\n",
    "    tags = nltk.pos_tag(ngram)\n",
    "    if tags[0][1] in acceptable_types and tags[1][1] in second_type:\n",
    "        return True\n",
    "    else:\n",
    "        return False\n",
    "    \n",
    "#filter bigrams\n",
    "filtered_bi = bigramFreqTable[bigramFreqTable.bigram.map(lambda x: rightTypes(x))]"
   ]
  },
  {
   "cell_type": "code",
   "execution_count": 18,
   "metadata": {},
   "outputs": [
    {
     "data": {
      "text/html": [
       "<div>\n",
       "<style scoped>\n",
       "    .dataframe tbody tr th:only-of-type {\n",
       "        vertical-align: middle;\n",
       "    }\n",
       "\n",
       "    .dataframe tbody tr th {\n",
       "        vertical-align: top;\n",
       "    }\n",
       "\n",
       "    .dataframe thead th {\n",
       "        text-align: right;\n",
       "    }\n",
       "</style>\n",
       "<table border=\"1\" class=\"dataframe\">\n",
       "  <thead>\n",
       "    <tr style=\"text-align: right;\">\n",
       "      <th></th>\n",
       "      <th>bigram</th>\n",
       "      <th>freq</th>\n",
       "    </tr>\n",
       "  </thead>\n",
       "  <tbody>\n",
       "    <tr>\n",
       "      <th>4572</th>\n",
       "      <td>(image, processing)</td>\n",
       "      <td>126</td>\n",
       "    </tr>\n",
       "    <tr>\n",
       "      <th>1387</th>\n",
       "      <td>(anonymous, ftp)</td>\n",
       "      <td>126</td>\n",
       "    </tr>\n",
       "    <tr>\n",
       "      <th>2193</th>\n",
       "      <td>(computer, graphics)</td>\n",
       "      <td>112</td>\n",
       "    </tr>\n",
       "    <tr>\n",
       "      <th>155193</th>\n",
       "      <td>(lord, jehovah)</td>\n",
       "      <td>92</td>\n",
       "    </tr>\n",
       "    <tr>\n",
       "      <th>14343</th>\n",
       "      <td>(space, station)</td>\n",
       "      <td>89</td>\n",
       "    </tr>\n",
       "    <tr>\n",
       "      <th>1158</th>\n",
       "      <td>(many, people)</td>\n",
       "      <td>86</td>\n",
       "    </tr>\n",
       "    <tr>\n",
       "      <th>3139</th>\n",
       "      <td>(solar, system)</td>\n",
       "      <td>84</td>\n",
       "    </tr>\n",
       "    <tr>\n",
       "      <th>4152</th>\n",
       "      <td>(source, code)</td>\n",
       "      <td>78</td>\n",
       "    </tr>\n",
       "    <tr>\n",
       "      <th>2626</th>\n",
       "      <td>(space, shuttle)</td>\n",
       "      <td>76</td>\n",
       "    </tr>\n",
       "    <tr>\n",
       "      <th>7946</th>\n",
       "      <td>(thanks, advance)</td>\n",
       "      <td>70</td>\n",
       "    </tr>\n",
       "    <tr>\n",
       "      <th>8340</th>\n",
       "      <td>(jesus, christ)</td>\n",
       "      <td>67</td>\n",
       "    </tr>\n",
       "    <tr>\n",
       "      <th>30019</th>\n",
       "      <td>(full, color)</td>\n",
       "      <td>66</td>\n",
       "    </tr>\n",
       "    <tr>\n",
       "      <th>3394</th>\n",
       "      <td>(new, york)</td>\n",
       "      <td>63</td>\n",
       "    </tr>\n",
       "    <tr>\n",
       "      <th>63791</th>\n",
       "      <td>(physical, universe)</td>\n",
       "      <td>61</td>\n",
       "    </tr>\n",
       "    <tr>\n",
       "      <th>4664</th>\n",
       "      <td>(pub, graphics)</td>\n",
       "      <td>59</td>\n",
       "    </tr>\n",
       "    <tr>\n",
       "      <th>573</th>\n",
       "      <td>(send, mail)</td>\n",
       "      <td>58</td>\n",
       "    </tr>\n",
       "    <tr>\n",
       "      <th>72815</th>\n",
       "      <td>(image, quality)</td>\n",
       "      <td>55</td>\n",
       "    </tr>\n",
       "    <tr>\n",
       "      <th>2931</th>\n",
       "      <td>(gamma, ray)</td>\n",
       "      <td>54</td>\n",
       "    </tr>\n",
       "    <tr>\n",
       "      <th>5504</th>\n",
       "      <td>(file, format)</td>\n",
       "      <td>53</td>\n",
       "    </tr>\n",
       "    <tr>\n",
       "      <th>874</th>\n",
       "      <td>(public, domain)</td>\n",
       "      <td>52</td>\n",
       "    </tr>\n",
       "  </tbody>\n",
       "</table>\n",
       "</div>"
      ],
      "text/plain": [
       "                      bigram  freq\n",
       "4572     (image, processing)   126\n",
       "1387        (anonymous, ftp)   126\n",
       "2193    (computer, graphics)   112\n",
       "155193       (lord, jehovah)    92\n",
       "14343       (space, station)    89\n",
       "1158          (many, people)    86\n",
       "3139         (solar, system)    84\n",
       "4152          (source, code)    78\n",
       "2626        (space, shuttle)    76\n",
       "7946       (thanks, advance)    70\n",
       "8340         (jesus, christ)    67\n",
       "30019          (full, color)    66\n",
       "3394             (new, york)    63\n",
       "63791   (physical, universe)    61\n",
       "4664         (pub, graphics)    59\n",
       "573             (send, mail)    58\n",
       "72815       (image, quality)    55\n",
       "2931            (gamma, ray)    54\n",
       "5504          (file, format)    53\n",
       "874         (public, domain)    52"
      ]
     },
     "execution_count": 18,
     "metadata": {},
     "output_type": "execute_result"
    }
   ],
   "source": [
    "# Let's check top 20 collocations which are extracted by using frequency with filter.\n",
    "freq_bi = filtered_bi[:20].bigram.values\n",
    "filtered_bi[:20]"
   ]
  },
  {
   "cell_type": "code",
   "execution_count": 19,
   "metadata": {},
   "outputs": [
    {
     "data": {
      "text/html": [
       "<div>\n",
       "<style scoped>\n",
       "    .dataframe tbody tr th:only-of-type {\n",
       "        vertical-align: middle;\n",
       "    }\n",
       "\n",
       "    .dataframe tbody tr th {\n",
       "        vertical-align: top;\n",
       "    }\n",
       "\n",
       "    .dataframe thead th {\n",
       "        text-align: right;\n",
       "    }\n",
       "</style>\n",
       "<table border=\"1\" class=\"dataframe\">\n",
       "  <thead>\n",
       "    <tr style=\"text-align: right;\">\n",
       "      <th></th>\n",
       "      <th>bigram</th>\n",
       "      <th>PMI</th>\n",
       "    </tr>\n",
       "  </thead>\n",
       "  <tbody>\n",
       "    <tr>\n",
       "      <th>0</th>\n",
       "      <td>(physik, unizh)</td>\n",
       "      <td>13.963643</td>\n",
       "    </tr>\n",
       "    <tr>\n",
       "      <th>1</th>\n",
       "      <td>(xxxx, xxxx)</td>\n",
       "      <td>13.712581</td>\n",
       "    </tr>\n",
       "    <tr>\n",
       "      <th>2</th>\n",
       "      <td>(blew, bronx)</td>\n",
       "      <td>13.615720</td>\n",
       "    </tr>\n",
       "    <tr>\n",
       "      <th>3</th>\n",
       "      <td>(beauchaine, bobbe)</td>\n",
       "      <td>13.607158</td>\n",
       "    </tr>\n",
       "    <tr>\n",
       "      <th>4</th>\n",
       "      <td>(sank, manhattan)</td>\n",
       "      <td>13.607158</td>\n",
       "    </tr>\n",
       "    <tr>\n",
       "      <th>5</th>\n",
       "      <td>(sumex, aim)</td>\n",
       "      <td>13.449070</td>\n",
       "    </tr>\n",
       "    <tr>\n",
       "      <th>6</th>\n",
       "      <td>(op_rows, op_cols)</td>\n",
       "      <td>13.393328</td>\n",
       "    </tr>\n",
       "    <tr>\n",
       "      <th>7</th>\n",
       "      <td>(ico, tek)</td>\n",
       "      <td>13.253150</td>\n",
       "    </tr>\n",
       "    <tr>\n",
       "      <th>8</th>\n",
       "      <td>(mcdonnell, douglas)</td>\n",
       "      <td>13.182761</td>\n",
       "    </tr>\n",
       "    <tr>\n",
       "      <th>9</th>\n",
       "      <td>(bobbe, vice)</td>\n",
       "      <td>13.101147</td>\n",
       "    </tr>\n",
       "    <tr>\n",
       "      <th>10</th>\n",
       "      <td>(vice, ico)</td>\n",
       "      <td>13.101147</td>\n",
       "    </tr>\n",
       "    <tr>\n",
       "      <th>11</th>\n",
       "      <td>(wuarchive, wustl)</td>\n",
       "      <td>12.841024</td>\n",
       "    </tr>\n",
       "    <tr>\n",
       "      <th>12</th>\n",
       "      <td>(ics, uci)</td>\n",
       "      <td>12.838112</td>\n",
       "    </tr>\n",
       "    <tr>\n",
       "      <th>13</th>\n",
       "      <td>(geode, ics)</td>\n",
       "      <td>12.796292</td>\n",
       "    </tr>\n",
       "    <tr>\n",
       "      <th>14</th>\n",
       "      <td>(physicist, dewey)</td>\n",
       "      <td>12.709379</td>\n",
       "    </tr>\n",
       "    <tr>\n",
       "      <th>15</th>\n",
       "      <td>(export, lcs)</td>\n",
       "      <td>12.577990</td>\n",
       "    </tr>\n",
       "    <tr>\n",
       "      <th>16</th>\n",
       "      <td>(incoming, geode)</td>\n",
       "      <td>12.548365</td>\n",
       "    </tr>\n",
       "    <tr>\n",
       "      <th>17</th>\n",
       "      <td>(san, jose)</td>\n",
       "      <td>12.492338</td>\n",
       "    </tr>\n",
       "    <tr>\n",
       "      <th>18</th>\n",
       "      <td>(uci, incoming)</td>\n",
       "      <td>12.346259</td>\n",
       "    </tr>\n",
       "    <tr>\n",
       "      <th>19</th>\n",
       "      <td>(mary, shafer)</td>\n",
       "      <td>12.271766</td>\n",
       "    </tr>\n",
       "  </tbody>\n",
       "</table>\n",
       "</div>"
      ],
      "text/plain": [
       "                  bigram        PMI\n",
       "0        (physik, unizh)  13.963643\n",
       "1           (xxxx, xxxx)  13.712581\n",
       "2          (blew, bronx)  13.615720\n",
       "3    (beauchaine, bobbe)  13.607158\n",
       "4      (sank, manhattan)  13.607158\n",
       "5           (sumex, aim)  13.449070\n",
       "6     (op_rows, op_cols)  13.393328\n",
       "7             (ico, tek)  13.253150\n",
       "8   (mcdonnell, douglas)  13.182761\n",
       "9          (bobbe, vice)  13.101147\n",
       "10           (vice, ico)  13.101147\n",
       "11    (wuarchive, wustl)  12.841024\n",
       "12            (ics, uci)  12.838112\n",
       "13          (geode, ics)  12.796292\n",
       "14    (physicist, dewey)  12.709379\n",
       "15         (export, lcs)  12.577990\n",
       "16     (incoming, geode)  12.548365\n",
       "17           (san, jose)  12.492338\n",
       "18       (uci, incoming)  12.346259\n",
       "19        (mary, shafer)  12.271766"
      ]
     },
     "execution_count": 19,
     "metadata": {},
     "output_type": "execute_result"
    }
   ],
   "source": [
    "# The second method is by using PMI.\n",
    "# https://github.com/nicharuc/Collocations/blob/master/Collocations.ipynb\n",
    "bigramFinder.apply_freq_filter(20)\n",
    "bigramPMITable = pd.DataFrame(list(bigramFinder.score_ngrams(bigrams.pmi)), \n",
    "        columns=['bigram','PMI']).sort_values(by='PMI', ascending=False)\n",
    "\n",
    "# Let's check top 20 results of collocations extracted using PMI.\n",
    "pmi_bi = bigramPMITable[:20].bigram.values\n",
    "bigramPMITable[:20]"
   ]
  },
  {
   "cell_type": "code",
   "execution_count": 20,
   "metadata": {},
   "outputs": [
    {
     "data": {
      "text/html": [
       "<div>\n",
       "<style scoped>\n",
       "    .dataframe tbody tr th:only-of-type {\n",
       "        vertical-align: middle;\n",
       "    }\n",
       "\n",
       "    .dataframe tbody tr th {\n",
       "        vertical-align: top;\n",
       "    }\n",
       "\n",
       "    .dataframe thead th {\n",
       "        text-align: right;\n",
       "    }\n",
       "</style>\n",
       "<table border=\"1\" class=\"dataframe\">\n",
       "  <thead>\n",
       "    <tr style=\"text-align: right;\">\n",
       "      <th></th>\n",
       "      <th>bigram</th>\n",
       "      <th>t</th>\n",
       "    </tr>\n",
       "  </thead>\n",
       "  <tbody>\n",
       "    <tr>\n",
       "      <th>0</th>\n",
       "      <td>(anonymous, ftp)</td>\n",
       "      <td>11.205917</td>\n",
       "    </tr>\n",
       "    <tr>\n",
       "      <th>1</th>\n",
       "      <td>(image, processing)</td>\n",
       "      <td>11.159040</td>\n",
       "    </tr>\n",
       "    <tr>\n",
       "      <th>3</th>\n",
       "      <td>(computer, graphics)</td>\n",
       "      <td>10.504805</td>\n",
       "    </tr>\n",
       "    <tr>\n",
       "      <th>4</th>\n",
       "      <td>(lord, jehovah)</td>\n",
       "      <td>9.578048</td>\n",
       "    </tr>\n",
       "    <tr>\n",
       "      <th>5</th>\n",
       "      <td>(space, station)</td>\n",
       "      <td>9.360516</td>\n",
       "    </tr>\n",
       "    <tr>\n",
       "      <th>6</th>\n",
       "      <td>(solar, system)</td>\n",
       "      <td>9.102695</td>\n",
       "    </tr>\n",
       "    <tr>\n",
       "      <th>7</th>\n",
       "      <td>(many, people)</td>\n",
       "      <td>8.954932</td>\n",
       "    </tr>\n",
       "    <tr>\n",
       "      <th>8</th>\n",
       "      <td>(source, code)</td>\n",
       "      <td>8.805244</td>\n",
       "    </tr>\n",
       "    <tr>\n",
       "      <th>9</th>\n",
       "      <td>(space, shuttle)</td>\n",
       "      <td>8.577986</td>\n",
       "    </tr>\n",
       "    <tr>\n",
       "      <th>11</th>\n",
       "      <td>(thanks, advance)</td>\n",
       "      <td>8.355147</td>\n",
       "    </tr>\n",
       "    <tr>\n",
       "      <th>14</th>\n",
       "      <td>(jesus, christ)</td>\n",
       "      <td>8.135900</td>\n",
       "    </tr>\n",
       "    <tr>\n",
       "      <th>15</th>\n",
       "      <td>(full, color)</td>\n",
       "      <td>8.091036</td>\n",
       "    </tr>\n",
       "    <tr>\n",
       "      <th>17</th>\n",
       "      <td>(new, york)</td>\n",
       "      <td>7.922337</td>\n",
       "    </tr>\n",
       "    <tr>\n",
       "      <th>19</th>\n",
       "      <td>(physical, universe)</td>\n",
       "      <td>7.798200</td>\n",
       "    </tr>\n",
       "    <tr>\n",
       "      <th>21</th>\n",
       "      <td>(send, mail)</td>\n",
       "      <td>7.553639</td>\n",
       "    </tr>\n",
       "    <tr>\n",
       "      <th>22</th>\n",
       "      <td>(pub, graphics)</td>\n",
       "      <td>7.548263</td>\n",
       "    </tr>\n",
       "    <tr>\n",
       "      <th>24</th>\n",
       "      <td>(gamma, ray)</td>\n",
       "      <td>7.335395</td>\n",
       "    </tr>\n",
       "    <tr>\n",
       "      <th>25</th>\n",
       "      <td>(image, quality)</td>\n",
       "      <td>7.315935</td>\n",
       "    </tr>\n",
       "    <tr>\n",
       "      <th>26</th>\n",
       "      <td>(public, domain)</td>\n",
       "      <td>7.206193</td>\n",
       "    </tr>\n",
       "    <tr>\n",
       "      <th>27</th>\n",
       "      <td>(file, format)</td>\n",
       "      <td>7.160222</td>\n",
       "    </tr>\n",
       "  </tbody>\n",
       "</table>\n",
       "</div>"
      ],
      "text/plain": [
       "                  bigram          t\n",
       "0       (anonymous, ftp)  11.205917\n",
       "1    (image, processing)  11.159040\n",
       "3   (computer, graphics)  10.504805\n",
       "4        (lord, jehovah)   9.578048\n",
       "5       (space, station)   9.360516\n",
       "6        (solar, system)   9.102695\n",
       "7         (many, people)   8.954932\n",
       "8         (source, code)   8.805244\n",
       "9       (space, shuttle)   8.577986\n",
       "11     (thanks, advance)   8.355147\n",
       "14       (jesus, christ)   8.135900\n",
       "15         (full, color)   8.091036\n",
       "17           (new, york)   7.922337\n",
       "19  (physical, universe)   7.798200\n",
       "21          (send, mail)   7.553639\n",
       "22       (pub, graphics)   7.548263\n",
       "24          (gamma, ray)   7.335395\n",
       "25      (image, quality)   7.315935\n",
       "26      (public, domain)   7.206193\n",
       "27        (file, format)   7.160222"
      ]
     },
     "execution_count": 20,
     "metadata": {},
     "output_type": "execute_result"
    }
   ],
   "source": [
    "# The third method is by using T-test.\n",
    "# https://github.com/nicharuc/Collocations/blob/master/Collocations.ipynb\n",
    "bigramTtable = pd.DataFrame(list(bigramFinder.score_ngrams(bigrams.student_t)), \n",
    "                columns=['bigram','t']).sort_values(by='t', ascending=False)\n",
    "\n",
    "# Let's check top 20 collocations extracted using T-test.\n",
    "filteredT_bi = bigramTtable[bigramTtable.bigram.map(lambda x: rightTypes(x))]\n",
    "T_bi = filteredT_bi[:20].bigram.values\n",
    "filteredT_bi[:20]"
   ]
  },
  {
   "cell_type": "code",
   "execution_count": 21,
   "metadata": {},
   "outputs": [
    {
     "data": {
      "text/html": [
       "<div>\n",
       "<style scoped>\n",
       "    .dataframe tbody tr th:only-of-type {\n",
       "        vertical-align: middle;\n",
       "    }\n",
       "\n",
       "    .dataframe tbody tr th {\n",
       "        vertical-align: top;\n",
       "    }\n",
       "\n",
       "    .dataframe thead th {\n",
       "        text-align: right;\n",
       "    }\n",
       "</style>\n",
       "<table border=\"1\" class=\"dataframe\">\n",
       "  <thead>\n",
       "    <tr style=\"text-align: right;\">\n",
       "      <th></th>\n",
       "      <th>bigram</th>\n",
       "      <th>chi-sq</th>\n",
       "    </tr>\n",
       "  </thead>\n",
       "  <tbody>\n",
       "    <tr>\n",
       "      <th>0</th>\n",
       "      <td>(physik, unizh)</td>\n",
       "      <td>351478.000000</td>\n",
       "    </tr>\n",
       "    <tr>\n",
       "      <th>1</th>\n",
       "      <td>(ics, uci)</td>\n",
       "      <td>329507.812140</td>\n",
       "    </tr>\n",
       "    <tr>\n",
       "      <th>2</th>\n",
       "      <td>(blew, bronx)</td>\n",
       "      <td>301263.428337</td>\n",
       "    </tr>\n",
       "    <tr>\n",
       "      <th>3</th>\n",
       "      <td>(beauchaine, bobbe)</td>\n",
       "      <td>299480.520448</td>\n",
       "    </tr>\n",
       "    <tr>\n",
       "      <th>4</th>\n",
       "      <td>(sank, manhattan)</td>\n",
       "      <td>299480.520448</td>\n",
       "    </tr>\n",
       "    <tr>\n",
       "      <th>5</th>\n",
       "      <td>(xxxx, xxxx)</td>\n",
       "      <td>295335.485872</td>\n",
       "    </tr>\n",
       "    <tr>\n",
       "      <th>6</th>\n",
       "      <td>(op_rows, op_cols)</td>\n",
       "      <td>258221.877050</td>\n",
       "    </tr>\n",
       "    <tr>\n",
       "      <th>7</th>\n",
       "      <td>(ico, tek)</td>\n",
       "      <td>253837.999466</td>\n",
       "    </tr>\n",
       "    <tr>\n",
       "      <th>8</th>\n",
       "      <td>(remote, sensing)</td>\n",
       "      <td>247158.104161</td>\n",
       "    </tr>\n",
       "    <tr>\n",
       "      <th>9</th>\n",
       "      <td>(geode, ics)</td>\n",
       "      <td>241839.448920</td>\n",
       "    </tr>\n",
       "    <tr>\n",
       "      <th>10</th>\n",
       "      <td>(sumex, aim)</td>\n",
       "      <td>234843.954095</td>\n",
       "    </tr>\n",
       "    <tr>\n",
       "      <th>11</th>\n",
       "      <td>(bobbe, vice)</td>\n",
       "      <td>228451.599327</td>\n",
       "    </tr>\n",
       "    <tr>\n",
       "      <th>12</th>\n",
       "      <td>(vice, ico)</td>\n",
       "      <td>228451.599327</td>\n",
       "    </tr>\n",
       "    <tr>\n",
       "      <th>13</th>\n",
       "      <td>(wuarchive, wustl)</td>\n",
       "      <td>227443.262233</td>\n",
       "    </tr>\n",
       "    <tr>\n",
       "      <th>14</th>\n",
       "      <td>(incoming, geode)</td>\n",
       "      <td>203648.750421</td>\n",
       "    </tr>\n",
       "    <tr>\n",
       "      <th>15</th>\n",
       "      <td>(cheers, kent)</td>\n",
       "      <td>202379.641903</td>\n",
       "    </tr>\n",
       "    <tr>\n",
       "      <th>16</th>\n",
       "      <td>(uci, incoming)</td>\n",
       "      <td>197850.516316</td>\n",
       "    </tr>\n",
       "    <tr>\n",
       "      <th>17</th>\n",
       "      <td>(export, lcs)</td>\n",
       "      <td>189530.571554</td>\n",
       "    </tr>\n",
       "    <tr>\n",
       "      <th>18</th>\n",
       "      <td>(mcdonnell, douglas)</td>\n",
       "      <td>185957.353914</td>\n",
       "    </tr>\n",
       "    <tr>\n",
       "      <th>19</th>\n",
       "      <td>(physicist, dewey)</td>\n",
       "      <td>167419.034616</td>\n",
       "    </tr>\n",
       "  </tbody>\n",
       "</table>\n",
       "</div>"
      ],
      "text/plain": [
       "                  bigram         chi-sq\n",
       "0        (physik, unizh)  351478.000000\n",
       "1             (ics, uci)  329507.812140\n",
       "2          (blew, bronx)  301263.428337\n",
       "3    (beauchaine, bobbe)  299480.520448\n",
       "4      (sank, manhattan)  299480.520448\n",
       "5           (xxxx, xxxx)  295335.485872\n",
       "6     (op_rows, op_cols)  258221.877050\n",
       "7             (ico, tek)  253837.999466\n",
       "8      (remote, sensing)  247158.104161\n",
       "9           (geode, ics)  241839.448920\n",
       "10          (sumex, aim)  234843.954095\n",
       "11         (bobbe, vice)  228451.599327\n",
       "12           (vice, ico)  228451.599327\n",
       "13    (wuarchive, wustl)  227443.262233\n",
       "14     (incoming, geode)  203648.750421\n",
       "15        (cheers, kent)  202379.641903\n",
       "16       (uci, incoming)  197850.516316\n",
       "17         (export, lcs)  189530.571554\n",
       "18  (mcdonnell, douglas)  185957.353914\n",
       "19    (physicist, dewey)  167419.034616"
      ]
     },
     "execution_count": 21,
     "metadata": {},
     "output_type": "execute_result"
    }
   ],
   "source": [
    "# The fourth method is by using Chi-sq test.\n",
    "# https://github.com/nicharuc/Collocations/blob/master/Collocations.ipynb\n",
    "bigramChiTable = pd.DataFrame(list(bigramFinder.score_ngrams(bigrams.chi_sq)), \n",
    "            columns=['bigram','chi-sq']).sort_values(by='chi-sq', ascending=False)\n",
    "\n",
    "# Let's check top 20 results of Chi-sq test.\n",
    "chi_bi = bigramChiTable[:20].bigram.values\n",
    "bigramChiTable[:20]"
   ]
  },
  {
   "cell_type": "code",
   "execution_count": 22,
   "metadata": {},
   "outputs": [
    {
     "data": {
      "text/html": [
       "<div>\n",
       "<style scoped>\n",
       "    .dataframe tbody tr th:only-of-type {\n",
       "        vertical-align: middle;\n",
       "    }\n",
       "\n",
       "    .dataframe tbody tr th {\n",
       "        vertical-align: top;\n",
       "    }\n",
       "\n",
       "    .dataframe thead th {\n",
       "        text-align: right;\n",
       "    }\n",
       "</style>\n",
       "<table border=\"1\" class=\"dataframe\">\n",
       "  <thead>\n",
       "    <tr style=\"text-align: right;\">\n",
       "      <th></th>\n",
       "      <th>Frequency with filter</th>\n",
       "      <th>PMI</th>\n",
       "      <th>T-test with filter</th>\n",
       "      <th>Chi-Sq Test</th>\n",
       "    </tr>\n",
       "  </thead>\n",
       "  <tbody>\n",
       "    <tr>\n",
       "      <th>0</th>\n",
       "      <td>(image, processing)</td>\n",
       "      <td>(physik, unizh)</td>\n",
       "      <td>(anonymous, ftp)</td>\n",
       "      <td>(physik, unizh)</td>\n",
       "    </tr>\n",
       "    <tr>\n",
       "      <th>1</th>\n",
       "      <td>(anonymous, ftp)</td>\n",
       "      <td>(xxxx, xxxx)</td>\n",
       "      <td>(image, processing)</td>\n",
       "      <td>(ics, uci)</td>\n",
       "    </tr>\n",
       "    <tr>\n",
       "      <th>2</th>\n",
       "      <td>(computer, graphics)</td>\n",
       "      <td>(blew, bronx)</td>\n",
       "      <td>(computer, graphics)</td>\n",
       "      <td>(blew, bronx)</td>\n",
       "    </tr>\n",
       "    <tr>\n",
       "      <th>3</th>\n",
       "      <td>(lord, jehovah)</td>\n",
       "      <td>(beauchaine, bobbe)</td>\n",
       "      <td>(lord, jehovah)</td>\n",
       "      <td>(beauchaine, bobbe)</td>\n",
       "    </tr>\n",
       "    <tr>\n",
       "      <th>4</th>\n",
       "      <td>(space, station)</td>\n",
       "      <td>(sank, manhattan)</td>\n",
       "      <td>(space, station)</td>\n",
       "      <td>(sank, manhattan)</td>\n",
       "    </tr>\n",
       "    <tr>\n",
       "      <th>5</th>\n",
       "      <td>(many, people)</td>\n",
       "      <td>(sumex, aim)</td>\n",
       "      <td>(solar, system)</td>\n",
       "      <td>(xxxx, xxxx)</td>\n",
       "    </tr>\n",
       "    <tr>\n",
       "      <th>6</th>\n",
       "      <td>(solar, system)</td>\n",
       "      <td>(op_rows, op_cols)</td>\n",
       "      <td>(many, people)</td>\n",
       "      <td>(op_rows, op_cols)</td>\n",
       "    </tr>\n",
       "    <tr>\n",
       "      <th>7</th>\n",
       "      <td>(source, code)</td>\n",
       "      <td>(ico, tek)</td>\n",
       "      <td>(source, code)</td>\n",
       "      <td>(ico, tek)</td>\n",
       "    </tr>\n",
       "    <tr>\n",
       "      <th>8</th>\n",
       "      <td>(space, shuttle)</td>\n",
       "      <td>(mcdonnell, douglas)</td>\n",
       "      <td>(space, shuttle)</td>\n",
       "      <td>(remote, sensing)</td>\n",
       "    </tr>\n",
       "    <tr>\n",
       "      <th>9</th>\n",
       "      <td>(thanks, advance)</td>\n",
       "      <td>(bobbe, vice)</td>\n",
       "      <td>(thanks, advance)</td>\n",
       "      <td>(geode, ics)</td>\n",
       "    </tr>\n",
       "    <tr>\n",
       "      <th>10</th>\n",
       "      <td>(jesus, christ)</td>\n",
       "      <td>(vice, ico)</td>\n",
       "      <td>(jesus, christ)</td>\n",
       "      <td>(sumex, aim)</td>\n",
       "    </tr>\n",
       "    <tr>\n",
       "      <th>11</th>\n",
       "      <td>(full, color)</td>\n",
       "      <td>(wuarchive, wustl)</td>\n",
       "      <td>(full, color)</td>\n",
       "      <td>(bobbe, vice)</td>\n",
       "    </tr>\n",
       "    <tr>\n",
       "      <th>12</th>\n",
       "      <td>(new, york)</td>\n",
       "      <td>(ics, uci)</td>\n",
       "      <td>(new, york)</td>\n",
       "      <td>(vice, ico)</td>\n",
       "    </tr>\n",
       "    <tr>\n",
       "      <th>13</th>\n",
       "      <td>(physical, universe)</td>\n",
       "      <td>(geode, ics)</td>\n",
       "      <td>(physical, universe)</td>\n",
       "      <td>(wuarchive, wustl)</td>\n",
       "    </tr>\n",
       "    <tr>\n",
       "      <th>14</th>\n",
       "      <td>(pub, graphics)</td>\n",
       "      <td>(physicist, dewey)</td>\n",
       "      <td>(send, mail)</td>\n",
       "      <td>(incoming, geode)</td>\n",
       "    </tr>\n",
       "    <tr>\n",
       "      <th>15</th>\n",
       "      <td>(send, mail)</td>\n",
       "      <td>(export, lcs)</td>\n",
       "      <td>(pub, graphics)</td>\n",
       "      <td>(cheers, kent)</td>\n",
       "    </tr>\n",
       "    <tr>\n",
       "      <th>16</th>\n",
       "      <td>(image, quality)</td>\n",
       "      <td>(incoming, geode)</td>\n",
       "      <td>(gamma, ray)</td>\n",
       "      <td>(uci, incoming)</td>\n",
       "    </tr>\n",
       "    <tr>\n",
       "      <th>17</th>\n",
       "      <td>(gamma, ray)</td>\n",
       "      <td>(san, jose)</td>\n",
       "      <td>(image, quality)</td>\n",
       "      <td>(export, lcs)</td>\n",
       "    </tr>\n",
       "    <tr>\n",
       "      <th>18</th>\n",
       "      <td>(file, format)</td>\n",
       "      <td>(uci, incoming)</td>\n",
       "      <td>(public, domain)</td>\n",
       "      <td>(mcdonnell, douglas)</td>\n",
       "    </tr>\n",
       "    <tr>\n",
       "      <th>19</th>\n",
       "      <td>(public, domain)</td>\n",
       "      <td>(mary, shafer)</td>\n",
       "      <td>(file, format)</td>\n",
       "      <td>(physicist, dewey)</td>\n",
       "    </tr>\n",
       "  </tbody>\n",
       "</table>\n",
       "</div>"
      ],
      "text/plain": [
       "   Frequency with filter                   PMI    T-test with filter  \\\n",
       "0    (image, processing)       (physik, unizh)      (anonymous, ftp)   \n",
       "1       (anonymous, ftp)          (xxxx, xxxx)   (image, processing)   \n",
       "2   (computer, graphics)         (blew, bronx)  (computer, graphics)   \n",
       "3        (lord, jehovah)   (beauchaine, bobbe)       (lord, jehovah)   \n",
       "4       (space, station)     (sank, manhattan)      (space, station)   \n",
       "5         (many, people)          (sumex, aim)       (solar, system)   \n",
       "6        (solar, system)    (op_rows, op_cols)        (many, people)   \n",
       "7         (source, code)            (ico, tek)        (source, code)   \n",
       "8       (space, shuttle)  (mcdonnell, douglas)      (space, shuttle)   \n",
       "9      (thanks, advance)         (bobbe, vice)     (thanks, advance)   \n",
       "10       (jesus, christ)           (vice, ico)       (jesus, christ)   \n",
       "11         (full, color)    (wuarchive, wustl)         (full, color)   \n",
       "12           (new, york)            (ics, uci)           (new, york)   \n",
       "13  (physical, universe)          (geode, ics)  (physical, universe)   \n",
       "14       (pub, graphics)    (physicist, dewey)          (send, mail)   \n",
       "15          (send, mail)         (export, lcs)       (pub, graphics)   \n",
       "16      (image, quality)     (incoming, geode)          (gamma, ray)   \n",
       "17          (gamma, ray)           (san, jose)      (image, quality)   \n",
       "18        (file, format)       (uci, incoming)      (public, domain)   \n",
       "19      (public, domain)        (mary, shafer)        (file, format)   \n",
       "\n",
       "             Chi-Sq Test  \n",
       "0        (physik, unizh)  \n",
       "1             (ics, uci)  \n",
       "2          (blew, bronx)  \n",
       "3    (beauchaine, bobbe)  \n",
       "4      (sank, manhattan)  \n",
       "5           (xxxx, xxxx)  \n",
       "6     (op_rows, op_cols)  \n",
       "7             (ico, tek)  \n",
       "8      (remote, sensing)  \n",
       "9           (geode, ics)  \n",
       "10          (sumex, aim)  \n",
       "11         (bobbe, vice)  \n",
       "12           (vice, ico)  \n",
       "13    (wuarchive, wustl)  \n",
       "14     (incoming, geode)  \n",
       "15        (cheers, kent)  \n",
       "16       (uci, incoming)  \n",
       "17         (export, lcs)  \n",
       "18  (mcdonnell, douglas)  \n",
       "19    (physicist, dewey)  "
      ]
     },
     "execution_count": 22,
     "metadata": {},
     "output_type": "execute_result"
    }
   ],
   "source": [
    "# Let's print top 20 results of four methods in one table to compare them.\n",
    "# https://github.com/nicharuc/Collocations/blob/master/Collocations.ipynb\n",
    "bigramsCompare = pd.DataFrame([freq_bi, pmi_bi, T_bi, chi_bi]).T\n",
    "bigramsCompare.columns = ['Frequency with filter', 'PMI', 'T-test with filter', 'Chi-Sq Test']\n",
    "bigramsCompare"
   ]
  },
  {
   "cell_type": "markdown",
   "metadata": {},
   "source": [
    "### Q1 (c), overlap between techniques\n",
    "The above table indicates that frequency and T-test gives almost same results. Similarly, many collocations of PMI and Chi-sq test are matching with different ranks. However, results from frequency method doesn't match with PMI or Chi-sq test and  results from T-test doesn't match with PMI or Chi-sq test. By observing the results, we find many collocations which exist in actual. For example, image processing, computer graphics, space station, file format, image quality, magnetic field, public domain and many more. The frequency test directly matches frequent occurences in the strings which gives higher priority to more frequently occuring collocations. In contrast, PMI method checks how many times the words occur in group and how many times independently. \n",
    "\n",
    "Thus, we can combine frequency and PMI results so that those collocations which have high occurences in group rather than independently, gets more priority. As mentioned above, other two methods give nearly similar results. Combination of results of frequency method and PMI methods can give collocations. It should also be considered that there are some results which are not real collocations. Thus while making combination of results of frequency method and PMI method, we can give priority to those results which occures in both methods. For example, if (A,B) gets included in results of both techniques and (C,D) only in one method with lesser priority; we should give (A,B) higher priority."
   ]
  },
  {
   "cell_type": "code",
   "execution_count": 23,
   "metadata": {},
   "outputs": [
    {
     "data": {
      "text/html": [
       "<div>\n",
       "<style scoped>\n",
       "    .dataframe tbody tr th:only-of-type {\n",
       "        vertical-align: middle;\n",
       "    }\n",
       "\n",
       "    .dataframe tbody tr th {\n",
       "        vertical-align: top;\n",
       "    }\n",
       "\n",
       "    .dataframe thead th {\n",
       "        text-align: right;\n",
       "    }\n",
       "</style>\n",
       "<table border=\"1\" class=\"dataframe\">\n",
       "  <thead>\n",
       "    <tr style=\"text-align: right;\">\n",
       "      <th></th>\n",
       "      <th>Frequency</th>\n",
       "      <th>PMI</th>\n",
       "      <th>T-test</th>\n",
       "      <th>Chi-Sq Test</th>\n",
       "    </tr>\n",
       "  </thead>\n",
       "  <tbody>\n",
       "    <tr>\n",
       "      <th>0</th>\n",
       "      <td>(computer, graphics)</td>\n",
       "      <td>(sank, manhattan)</td>\n",
       "      <td>(computer, graphics)</td>\n",
       "      <td>(sank, manhattan)</td>\n",
       "    </tr>\n",
       "    <tr>\n",
       "      <th>1</th>\n",
       "      <td>(lord, jehovah)</td>\n",
       "      <td>(physicist, dewey)</td>\n",
       "      <td>(lord, jehovah)</td>\n",
       "      <td>(physicist, dewey)</td>\n",
       "    </tr>\n",
       "    <tr>\n",
       "      <th>2</th>\n",
       "      <td>(space, station)</td>\n",
       "      <td>(stay, bronx)</td>\n",
       "      <td>(space, station)</td>\n",
       "      <td>(san, jose)</td>\n",
       "    </tr>\n",
       "    <tr>\n",
       "      <th>3</th>\n",
       "      <td>(many, people)</td>\n",
       "      <td>(san, jose)</td>\n",
       "      <td>(solar, system)</td>\n",
       "      <td>(stay, bronx)</td>\n",
       "    </tr>\n",
       "    <tr>\n",
       "      <th>4</th>\n",
       "      <td>(solar, system)</td>\n",
       "      <td>(joseph, smith)</td>\n",
       "      <td>(many, people)</td>\n",
       "      <td>(resource, listing)</td>\n",
       "    </tr>\n",
       "    <tr>\n",
       "      <th>5</th>\n",
       "      <td>(source, code)</td>\n",
       "      <td>(resource, listing)</td>\n",
       "      <td>(source, code)</td>\n",
       "      <td>(joseph, smith)</td>\n",
       "    </tr>\n",
       "    <tr>\n",
       "      <th>6</th>\n",
       "      <td>(space, shuttle)</td>\n",
       "      <td>(thou, shalt)</td>\n",
       "      <td>(space, shuttle)</td>\n",
       "      <td>(thou, shalt)</td>\n",
       "    </tr>\n",
       "    <tr>\n",
       "      <th>7</th>\n",
       "      <td>(thanks, advance)</td>\n",
       "      <td>(bob, vice)</td>\n",
       "      <td>(thanks, advance)</td>\n",
       "      <td>(ray, tracer)</td>\n",
       "    </tr>\n",
       "    <tr>\n",
       "      <th>8</th>\n",
       "      <td>(jesus, christ)</td>\n",
       "      <td>(gamma, correction)</td>\n",
       "      <td>(jesus, christ)</td>\n",
       "      <td>(virtual, reality)</td>\n",
       "    </tr>\n",
       "    <tr>\n",
       "      <th>9</th>\n",
       "      <td>(new, york)</td>\n",
       "      <td>(po, box)</td>\n",
       "      <td>(new, york)</td>\n",
       "      <td>(ray, tracing)</td>\n",
       "    </tr>\n",
       "    <tr>\n",
       "      <th>10</th>\n",
       "      <td>(physical, universe)</td>\n",
       "      <td>(jet, propulsion)</td>\n",
       "      <td>(physical, universe)</td>\n",
       "      <td>(bob, vice)</td>\n",
       "    </tr>\n",
       "    <tr>\n",
       "      <th>11</th>\n",
       "      <td>(believe, god)</td>\n",
       "      <td>(ray, tracer)</td>\n",
       "      <td>(file, format)</td>\n",
       "      <td>(lord, jehovah)</td>\n",
       "    </tr>\n",
       "    <tr>\n",
       "      <th>12</th>\n",
       "      <td>(file, format)</td>\n",
       "      <td>(bronx, away)</td>\n",
       "      <td>(image, quality)</td>\n",
       "      <td>(public, domain)</td>\n",
       "    </tr>\n",
       "    <tr>\n",
       "      <th>13</th>\n",
       "      <td>(image, quality)</td>\n",
       "      <td>(virtual, reality)</td>\n",
       "      <td>(believe, god)</td>\n",
       "      <td>(gamma, correction)</td>\n",
       "    </tr>\n",
       "    <tr>\n",
       "      <th>14</th>\n",
       "      <td>(god, elohim)</td>\n",
       "      <td>(ray, tracing)</td>\n",
       "      <td>(god, elohim)</td>\n",
       "      <td>(thanks, advance)</td>\n",
       "    </tr>\n",
       "    <tr>\n",
       "      <th>15</th>\n",
       "      <td>(existence, god)</td>\n",
       "      <td>(away, sank)</td>\n",
       "      <td>(existence, god)</td>\n",
       "      <td>(po, box)</td>\n",
       "    </tr>\n",
       "    <tr>\n",
       "      <th>16</th>\n",
       "      <td>(public, domain)</td>\n",
       "      <td>(perfect, safety)</td>\n",
       "      <td>(public, domain)</td>\n",
       "      <td>(magnetic, field)</td>\n",
       "    </tr>\n",
       "    <tr>\n",
       "      <th>17</th>\n",
       "      <td>(virtual, reality)</td>\n",
       "      <td>(magnetic, field)</td>\n",
       "      <td>(ray, tracer)</td>\n",
       "      <td>(jet, propulsion)</td>\n",
       "    </tr>\n",
       "    <tr>\n",
       "      <th>18</th>\n",
       "      <td>(image, manipulation)</td>\n",
       "      <td>(public, domain)</td>\n",
       "      <td>(virtual, reality)</td>\n",
       "      <td>(bronx, away)</td>\n",
       "    </tr>\n",
       "    <tr>\n",
       "      <th>19</th>\n",
       "      <td>(current, version)</td>\n",
       "      <td>(mars, observer)</td>\n",
       "      <td>(image, manipulation)</td>\n",
       "      <td>(mars, observer)</td>\n",
       "    </tr>\n",
       "  </tbody>\n",
       "</table>\n",
       "</div>"
      ],
      "text/plain": [
       "                Frequency                  PMI                 T-test  \\\n",
       "0    (computer, graphics)    (sank, manhattan)   (computer, graphics)   \n",
       "1         (lord, jehovah)   (physicist, dewey)        (lord, jehovah)   \n",
       "2        (space, station)        (stay, bronx)       (space, station)   \n",
       "3          (many, people)          (san, jose)        (solar, system)   \n",
       "4         (solar, system)      (joseph, smith)         (many, people)   \n",
       "5          (source, code)  (resource, listing)         (source, code)   \n",
       "6        (space, shuttle)        (thou, shalt)       (space, shuttle)   \n",
       "7       (thanks, advance)          (bob, vice)      (thanks, advance)   \n",
       "8         (jesus, christ)  (gamma, correction)        (jesus, christ)   \n",
       "9             (new, york)            (po, box)            (new, york)   \n",
       "10   (physical, universe)    (jet, propulsion)   (physical, universe)   \n",
       "11         (believe, god)        (ray, tracer)         (file, format)   \n",
       "12         (file, format)        (bronx, away)       (image, quality)   \n",
       "13       (image, quality)   (virtual, reality)         (believe, god)   \n",
       "14          (god, elohim)       (ray, tracing)          (god, elohim)   \n",
       "15       (existence, god)         (away, sank)       (existence, god)   \n",
       "16       (public, domain)    (perfect, safety)       (public, domain)   \n",
       "17     (virtual, reality)    (magnetic, field)          (ray, tracer)   \n",
       "18  (image, manipulation)     (public, domain)     (virtual, reality)   \n",
       "19     (current, version)     (mars, observer)  (image, manipulation)   \n",
       "\n",
       "            Chi-Sq Test  \n",
       "0     (sank, manhattan)  \n",
       "1    (physicist, dewey)  \n",
       "2           (san, jose)  \n",
       "3         (stay, bronx)  \n",
       "4   (resource, listing)  \n",
       "5       (joseph, smith)  \n",
       "6         (thou, shalt)  \n",
       "7         (ray, tracer)  \n",
       "8    (virtual, reality)  \n",
       "9        (ray, tracing)  \n",
       "10          (bob, vice)  \n",
       "11      (lord, jehovah)  \n",
       "12     (public, domain)  \n",
       "13  (gamma, correction)  \n",
       "14    (thanks, advance)  \n",
       "15            (po, box)  \n",
       "16    (magnetic, field)  \n",
       "17    (jet, propulsion)  \n",
       "18        (bronx, away)  \n",
       "19     (mars, observer)  "
      ]
     },
     "execution_count": 23,
     "metadata": {},
     "output_type": "execute_result"
    }
   ],
   "source": [
    "# Here, some results seems uninterpretable. Though, the results might be having other language other than English.\n",
    "# Thus, we have tried to check collocation with only English words.\n",
    "# However in the models, we will be passing all words only as the model shouldn't be made on only English words as\n",
    "# those words might be significant in making models and deciding the target values.\n",
    "# Let's check collocation with English words. \n",
    "# To extract such collocations, we need to filter lists in advance.\n",
    "# Thus, let's repeat required steps with only English words.\n",
    "data_for_english_collocations = newsgroups_train.data\n",
    "data_words_for_english_collocations = sentence_to_words(data_for_english_collocations)   # tokenization\n",
    "\n",
    "english_dict = {}   # Make dictionary of all English words, https://stackoverflow.com/a/28339791/8243992\n",
    "for word in words.words():\n",
    "    english_dict[word.lower()] = 1\n",
    "\n",
    "def keep_english(texts):   # Keep only english words\n",
    "    build_list = []\n",
    "    for t in texts:\n",
    "        make_list = []\n",
    "        for word in t:\n",
    "            if word in english_dict:\n",
    "                make_list.append(word)\n",
    "        build_list.append(make_list)\n",
    "    return build_list\n",
    "data_words_for_english_collocations = keep_english(data_words_for_english_collocations)\n",
    "\n",
    "data_words_nostop_words_for_english_collocations = remove_stopwords(data_words_for_english_collocations)   # remove stop words\n",
    "join_data_words_nostops_for_english_collocations = join_list(data_words_nostop_words_for_english_collocations)   # join lists\n",
    "\n",
    "bigrams = nltk.collocations.BigramAssocMeasures()   # frequency\n",
    "bigramFinder = nltk.collocations.BigramCollocationFinder.from_words(join_data_words_nostops_for_english_collocations)\n",
    "bigram_freq = bigramFinder.ngram_fd.items()\n",
    "bigramFreqTable = pd.DataFrame(list(bigram_freq), columns=['bigram','freq']).sort_values(by='freq', ascending=False)\n",
    "filtered_bi = bigramFreqTable[bigramFreqTable.bigram.map(lambda x: rightTypes(x))]\n",
    "freq_bi = filtered_bi[:20].bigram.values\n",
    "\n",
    "bigramFinder.apply_freq_filter(20)   # PMI\n",
    "bigramPMITable = pd.DataFrame(list(bigramFinder.score_ngrams(bigrams.pmi)), \n",
    "        columns=['bigram','PMI']).sort_values(by='PMI', ascending=False)\n",
    "pmi_bi = bigramPMITable[:20].bigram.values\n",
    "\n",
    "bigramTtable = pd.DataFrame(list(bigramFinder.score_ngrams(bigrams.student_t)),   # T-test \n",
    "                columns=['bigram','t']).sort_values(by='t', ascending=False)\n",
    "filteredT_bi = bigramTtable[bigramTtable.bigram.map(lambda x: rightTypes(x))]\n",
    "t_bi = filteredT_bi[:20].bigram.values\n",
    "\n",
    "bigramChiTable = pd.DataFrame(list(bigramFinder.score_ngrams(bigrams.chi_sq)),   # Chi-sq\n",
    "            columns=['bigram','chi-sq']).sort_values(by='chi-sq', ascending=False)\n",
    "chi_bi = bigramChiTable[:20].bigram.values\n",
    "\n",
    "bigramsCompare = pd.DataFrame([freq_bi, pmi_bi, t_bi, chi_bi]).T\n",
    "bigramsCompare.columns = ['Frequency', 'PMI', 'T-test', 'Chi-Sq Test']\n",
    "bigramsCompare"
   ]
  },
  {
   "cell_type": "markdown",
   "metadata": {},
   "source": [
    "# Question 2"
   ]
  },
  {
   "cell_type": "markdown",
   "metadata": {},
   "source": [
    "### Q2 (a), cleaning"
   ]
  },
  {
   "cell_type": "code",
   "execution_count": 24,
   "metadata": {},
   "outputs": [],
   "source": [
    "# The cleaning steps are already performed in question 1 before stemming."
   ]
  },
  {
   "cell_type": "markdown",
   "metadata": {},
   "source": [
    "### Q2 (b), bag-of-words tf-idf weighted vector representation."
   ]
  },
  {
   "cell_type": "code",
   "execution_count": 25,
   "metadata": {},
   "outputs": [],
   "source": [
    "# Now, in order to build models the features should contain list with each list inside containg string.\n",
    "# example: Our data would be [[A B C], [A], [B C]] after this operation.\n",
    "def make_string_per_list(texts):\n",
    "    build_list = []\n",
    "    for doc in texts:\n",
    "        build_list.append(\" \".join(doc))\n",
    "    return build_list\n",
    "data_words_nostops = make_string_per_list(data_words_nostop_words_stem)"
   ]
  },
  {
   "cell_type": "code",
   "execution_count": 26,
   "metadata": {},
   "outputs": [
    {
     "data": {
      "text/plain": [
       "'point set view way believ say eveil world caus atheism ridicul dialogu newsgroup see post spirit condemn atheist newsgroup bacaus believ exactli tri convert atheist fail miser want posit constantli defend agaist insult attack like seem like sorri blind get messga quot everyon els seem'"
      ]
     },
     "execution_count": 26,
     "metadata": {},
     "output_type": "execute_result"
    }
   ],
   "source": [
    "data_words_nostops[0]"
   ]
  },
  {
   "cell_type": "code",
   "execution_count": 27,
   "metadata": {},
   "outputs": [
    {
     "data": {
      "text/plain": [
       "(3387, 20536)"
      ]
     },
     "execution_count": 27,
     "metadata": {},
     "output_type": "execute_result"
    }
   ],
   "source": [
    "# CountVectorizer will assign unique numerical value to each of unique words.\n",
    "# https://scikit-learn.org/stable/tutorial/text_analytics/working_with_text_data.html\n",
    "count_vect = CountVectorizer()\n",
    "X_train_counts = count_vect.fit_transform(data_words_nostops)\n",
    "X_train_counts.shape"
   ]
  },
  {
   "cell_type": "code",
   "execution_count": 28,
   "metadata": {},
   "outputs": [
    {
     "data": {
      "text/plain": [
       "(3387, 20536)"
      ]
     },
     "execution_count": 28,
     "metadata": {},
     "output_type": "execute_result"
    }
   ],
   "source": [
    "# TfidfTransformer will generate tfidf matrix with generated matrix from CountVectorizer\n",
    "# https://scikit-learn.org/stable/tutorial/text_analytics/working_with_text_data.html\n",
    "tfidf_transformer = TfidfTransformer()\n",
    "X_train_tfidf = tfidf_transformer.fit_transform(X_train_counts)\n",
    "X_train_tfidf.shape"
   ]
  },
  {
   "cell_type": "markdown",
   "metadata": {},
   "source": [
    "### Q2 (c) part 1, splitting the data"
   ]
  },
  {
   "cell_type": "code",
   "execution_count": 29,
   "metadata": {},
   "outputs": [],
   "source": [
    "# Let's split the data into train and test dataset.\n",
    "# The feature here will be the tfidf matrix generated and target will be the target value of dataset.\n",
    "# https://scikit-learn.org/stable/modules/generated/sklearn.model_selection.train_test_split.html\n",
    "X_train, X_test, y_train, y_test = train_test_split(X_train_tfidf, newsgroups_train.target, \n",
    "                                            test_size = 0.3, random_state = 90)"
   ]
  },
  {
   "cell_type": "markdown",
   "metadata": {},
   "source": [
    "### Q2 (c) part 2, train SVM"
   ]
  },
  {
   "cell_type": "code",
   "execution_count": 30,
   "metadata": {},
   "outputs": [
    {
     "name": "stdout",
     "output_type": "stream",
     "text": [
      "Accuracy score on test data (SVC):  0.8328416912487709\n"
     ]
    },
    {
     "data": {
      "image/png": "[encoded data removed]",
      "text/plain": [
       "<Figure size 432x288 with 2 Axes>"
      ]
     },
     "metadata": {
      "needs_background": "light"
     },
     "output_type": "display_data"
    }
   ],
   "source": [
    "# Training SVM and plotting of confusion matrix\n",
    "# https://scikit-learn.org/stable/tutorial/text_analytics/working_with_text_data.html\n",
    "# https://scikit-learn.org/stable/modules/generated/sklearn.metrics.confusion_matrix.html\n",
    "# https://scikit-learn.org/stable/modules/generated/sklearn.svm.SVC.html\n",
    "SVC_model = SVC(kernel='linear').fit(X_train, y_train)\n",
    "predicted_svc = SVC_model.predict(X_test)\n",
    "np.mean(predicted_svc == y_test)\n",
    "acc_score_SVC = accuracy_score(y_test, predicted_svc)\n",
    "print(\"Accuracy score on test data (SVC): \", acc_score_SVC)\n",
    "\n",
    "# https://sklearn.org/auto_examples/model_selection/plot_confusion_matrix.html\n",
    "def plot_confusion_matrix(cm, classes,\n",
    "                          normalize=False,\n",
    "                          title='Confusion matrix',\n",
    "                          cmap=plt.cm.Blues):\n",
    "    \n",
    "    plt.imshow(cm, interpolation='nearest', cmap=cmap)\n",
    "    plt.title(title)\n",
    "    plt.colorbar()\n",
    "    tick_marks = np.arange(len(classes))\n",
    "    plt.xticks(tick_marks, classes, rotation=45)\n",
    "    plt.yticks(tick_marks, classes)\n",
    "\n",
    "    fmt = 'd'\n",
    "    thresh = cm.max() / 2.\n",
    "    for i, j in itertools.product(range(cm.shape[0]), range(cm.shape[1])):\n",
    "        plt.text(j, i, format(cm[i, j], fmt),\n",
    "                 horizontalalignment=\"center\",\n",
    "                 color=\"white\" if cm[i, j] > thresh else \"black\")\n",
    "\n",
    "    plt.tight_layout()\n",
    "    plt.ylabel('True label')\n",
    "    plt.xlabel('Predicted label')\n",
    "\n",
    "# Compute confusion matrix\n",
    "np.set_printoptions(precision=2)\n",
    "class_names = list(set(newsgroups_train.target))\n",
    "conf_matrix_SVC = confusion_matrix(y_test, predicted_svc)\n",
    "\n",
    "# Plot non-normalized confusion matrix\n",
    "plt.figure()\n",
    "plot_confusion_matrix(conf_matrix_SVC, classes=class_names,\n",
    "                      title='Confusion matrix, SVC')\n",
    "\n",
    "plt.show()"
   ]
  },
  {
   "cell_type": "markdown",
   "metadata": {},
   "source": [
    "### Q2 (c) part 3, train Multinomial NB"
   ]
  },
  {
   "cell_type": "code",
   "execution_count": 31,
   "metadata": {},
   "outputs": [
    {
     "name": "stdout",
     "output_type": "stream",
     "text": [
      "Accuracy score on test data (multinomialNB):  0.8062930186823992\n"
     ]
    },
    {
     "data": {
      "image/png": "[encoded data removed]",
      "text/plain": [
       "<Figure size 432x288 with 2 Axes>"
      ]
     },
     "metadata": {
      "needs_background": "light"
     },
     "output_type": "display_data"
    }
   ],
   "source": [
    "# Training Multinomial NB and plotting of confusion matrix\n",
    "# https://scikit-learn.org/stable/tutorial/text_analytics/working_with_text_data.html\n",
    "# https://scikit-learn.org/stable/modules/generated/sklearn.metrics.confusion_matrix.html\n",
    "multinomialNB_model = MultinomialNB().fit(X_train, y_train)\n",
    "predicted_multinomialNB = multinomialNB_model.predict(X_test)\n",
    "acc_score_multinomialNB = accuracy_score(y_test, predicted_multinomialNB)\n",
    "print(\"Accuracy score on test data (multinomialNB): \", acc_score_multinomialNB)\n",
    "\n",
    "# https://sklearn.org/auto_examples/model_selection/plot_confusion_matrix.html\n",
    "# Compute confusion matrix\n",
    "np.set_printoptions(precision=2)\n",
    "class_names = list(set(newsgroups_train.target))\n",
    "conf_matrix_multinomialNB = confusion_matrix(y_test, predicted_multinomialNB)\n",
    "\n",
    "# Plot non-normalized confusion matrix\n",
    "plt.figure()\n",
    "plot_confusion_matrix(conf_matrix_multinomialNB, classes=class_names,\n",
    "                      title='Confusion matrix, Multinomial NB')\n",
    "\n",
    "plt.show()"
   ]
  },
  {
   "cell_type": "markdown",
   "metadata": {},
   "source": [
    "### Q2 (c) part 4, algorithm with higher accuracy\n",
    "We have computed the accuracy for SVM and Multinomial NB. The accuracy we got are as below.\n",
    "\n",
    "SVM: 0.8328416912487709\n",
    "\n",
    "Multinomial NB: 0.8062930186823992\n",
    "\n",
    "The accuracy for SVM is around 3% higher than that of Multinomial NB.\n",
    "\n",
    "The reason of SVM being more accurate lies under amount of data available. Support Vector Machine (SVM) performs better for large documents. The Multinomial Naive Bayes (NB) performs better in case of snippets. Here, the documents are available in large amount.\n",
    "\n",
    "Another reason for SVM being more accurate is that SVM looks for dependencies between text. In contrast, Multinomial NB treats texts as independent variables. In our collocation extraction, we found that there are many considerable collocations which exist in the dataset. In addition, these collocations are available in large amount (frequency more than 50). Thus, collocations add advantage for SVM and it performs better than Multinomial NB for this dataset.\n",
    "\n",
    "It should be also considered that combination of Multinomial NB and SVM could perform better in both cases, large document text and snippets.\n",
    "\n",
    "https://nlp.stanford.edu/pubs/sidaw12_simple_sentiment.pdf"
   ]
  },
  {
   "cell_type": "markdown",
   "metadata": {},
   "source": [
    "### Q2 (c) part 5, change kernels of SVM"
   ]
  },
  {
   "cell_type": "code",
   "execution_count": 32,
   "metadata": {},
   "outputs": [
    {
     "name": "stdout",
     "output_type": "stream",
     "text": [
      "Accuracy score on test data (linear kernal SVM):  0.8328416912487709\n"
     ]
    },
    {
     "data": {
      "image/png": "[encoded data removed]",
      "text/plain": [
       "<Figure size 432x288 with 2 Axes>"
      ]
     },
     "metadata": {
      "needs_background": "light"
     },
     "output_type": "display_data"
    }
   ],
   "source": [
    "# Changing of kernel in SVM.\n",
    "# Now, let's change kernel of SVM and check what happens with the accuracy and confusion matrix.\n",
    "# First let's change kernel to linear.\n",
    "# https://scikit-learn.org/stable/modules/generated/sklearn.svm.SVC.html\n",
    "SVC_linear_kernal_model = SVC(kernel='linear').fit(X_train, y_train)\n",
    "predicted_linear_kernal_svc = SVC_linear_kernal_model.predict(X_test)\n",
    "np.mean(predicted_linear_kernal_svc == y_test)\n",
    "acc_score_linear_kernal_svc = accuracy_score(y_test, predicted_linear_kernal_svc)\n",
    "print(\"Accuracy score on test data (linear kernal SVM): \", acc_score_linear_kernal_svc)\n",
    "\n",
    "# https://sklearn.org/auto_examples/model_selection/plot_confusion_matrix.html\n",
    "# Compute confusion matrix\n",
    "np.set_printoptions(precision=2)\n",
    "class_names = list(set(newsgroups_train.target))\n",
    "conf_matrix_linear_kernal_svc = confusion_matrix(y_test, predicted_linear_kernal_svc)\n",
    "\n",
    "# Plot non-normalized confusion matrix\n",
    "plt.figure()\n",
    "plot_confusion_matrix(conf_matrix_linear_kernal_svc, classes=class_names,\n",
    "                      title='Confusion matrix, SVC (linear kernel)')\n",
    "\n",
    "plt.show()"
   ]
  },
  {
   "cell_type": "code",
   "execution_count": 33,
   "metadata": {},
   "outputs": [
    {
     "name": "stderr",
     "output_type": "stream",
     "text": [
      "E:\\Anaconda\\lib\\site-packages\\sklearn\\svm\\base.py:196: FutureWarning: The default value of gamma will change from 'auto' to 'scale' in version 0.22 to account better for unscaled features. Set gamma explicitly to 'auto' or 'scale' to avoid this warning.\n",
      "  \"avoid this warning.\", FutureWarning)\n"
     ]
    },
    {
     "name": "stdout",
     "output_type": "stream",
     "text": [
      "Accuracy score on test data (rbf kernal SVC):  0.2920353982300885\n"
     ]
    },
    {
     "data": {
      "image/png": "[encoded data removed]",
      "text/plain": [
       "<Figure size 432x288 with 2 Axes>"
      ]
     },
     "metadata": {
      "needs_background": "light"
     },
     "output_type": "display_data"
    }
   ],
   "source": [
    "# Now, let's change kernel of SVM and check what happens with the accuracy and confusion matrix.\n",
    "# Let's change kernel to rbf.\n",
    "# https://scikit-learn.org/stable/modules/generated/sklearn.svm.SVC.html\n",
    "SVC_rbf_kernal_model = SVC(kernel='rbf').fit(X_train, y_train)\n",
    "predicted_rbf_kernal_svc = SVC_rbf_kernal_model.predict(X_test)\n",
    "np.mean(predicted_rbf_kernal_svc == y_test)\n",
    "acc_score_rbf_kernal_svc = accuracy_score(y_test, predicted_rbf_kernal_svc)\n",
    "print(\"Accuracy score on test data (rbf kernal SVC): \", acc_score_rbf_kernal_svc)\n",
    "\n",
    "# https://sklearn.org/auto_examples/model_selection/plot_confusion_matrix.html\n",
    "# Compute confusion matrix\n",
    "np.set_printoptions(precision=2)\n",
    "class_names = list(set(newsgroups_train.target))\n",
    "conf_matrix_rbf_kernal_svc = confusion_matrix(y_test, predicted_rbf_kernal_svc)\n",
    "\n",
    "# Plot non-normalized confusion matrix\n",
    "plt.figure()\n",
    "plot_confusion_matrix(conf_matrix_rbf_kernal_svc, classes=class_names,\n",
    "                      title='Confusion matrix, SVC (rbf kernel)')\n",
    "\n",
    "plt.show()"
   ]
  },
  {
   "cell_type": "code",
   "execution_count": 34,
   "metadata": {},
   "outputs": [
    {
     "name": "stdout",
     "output_type": "stream",
     "text": [
      "Accuracy score on test data (sigmoid kernal SVC):  0.2920353982300885\n"
     ]
    },
    {
     "data": {
      "image/png": "[encoded data removed]",
      "text/plain": [
       "<Figure size 432x288 with 2 Axes>"
      ]
     },
     "metadata": {
      "needs_background": "light"
     },
     "output_type": "display_data"
    }
   ],
   "source": [
    "# Now, let's change kernel of SVM and check what happens with the accuracy and confusion matrix.\n",
    "# Let's change kernel to sigmoid.\n",
    "# https://scikit-learn.org/stable/modules/generated/sklearn.svm.SVC.html\n",
    "SVC_sigmoid_kernal_model = SVC(kernel='sigmoid').fit(X_train, y_train)\n",
    "predicted_sigmoid_kernal_svc = SVC_sigmoid_kernal_model.predict(X_test)\n",
    "np.mean(predicted_sigmoid_kernal_svc == y_test)\n",
    "acc_score_sigmoid_kernal_svc = accuracy_score(y_test, predicted_sigmoid_kernal_svc)\n",
    "print(\"Accuracy score on test data (sigmoid kernal SVC): \", acc_score_sigmoid_kernal_svc)\n",
    "\n",
    "# https://sklearn.org/auto_examples/model_selection/plot_confusion_matrix.html\n",
    "# Compute confusion matrix\n",
    "np.set_printoptions(precision=2)\n",
    "class_names = list(set(newsgroups_train.target))\n",
    "conf_matrix_sigmoid_kernal_svc = confusion_matrix(y_test, predicted_sigmoid_kernal_svc)\n",
    "\n",
    "# Plot non-normalized confusion matrix\n",
    "plt.figure()\n",
    "plot_confusion_matrix(conf_matrix_sigmoid_kernal_svc, classes=class_names,\n",
    "                      title='Confusion matrix, SVC (sigmoid kernel)')\n",
    "\n",
    "plt.show()"
   ]
  },
  {
   "cell_type": "markdown",
   "metadata": {},
   "source": [
    "### Observation after changing kernels\n",
    "\n",
    "Below are the accuracies of SVC models with different kernels\n",
    "\n",
    "Linear kernel - accuracy: 0.8328416912487709\n",
    "\n",
    "rbf kernel - accuracy: 0.2920353982300885\n",
    "\n",
    "sigmoid kernel - accuracy: 0.2920353982300885\n",
    "\n",
    "We can observe that the accuracy for SVC model with rbf and sigmoid kernel remains same. The accuracy for linear kernel is much higher as compared to other two. Thus, we can conclude that the model behaves better with linear kernel.\n",
    "\n",
    "If we consider confusion matrix, it is observed that SVC model with rbf and sigmoid kernel gives same confusion matrix. The linear kernel model gives better confusion matrix. The models with rbf and sigmoid kernel predict that all instances belong to same target i.e. 2. But actual labels contradicts the prediction of models. It results in very less accuracy for both of the models. For model with linear kernel, the confusion matrix predicts instances belonging in different targets. Though all does not match with actual results but significant amount of target predictions are correct. It results in higher accuracy for linear kernel SVC model."
   ]
  },
  {
   "cell_type": "markdown",
   "metadata": {},
   "source": [
    "### Q2 (d), models with filtered data"
   ]
  },
  {
   "cell_type": "code",
   "execution_count": 35,
   "metadata": {},
   "outputs": [],
   "source": [
    "# In part d. we need to test models with only noun words. \n",
    "# Thus, let's first perform cleaning and other steps before testing the models.\n",
    "# Let's load the data again.\n",
    "new_data = newsgroups_train.data"
   ]
  },
  {
   "cell_type": "code",
   "execution_count": 36,
   "metadata": {},
   "outputs": [
    {
     "data": {
      "text/plain": [
       "3387"
      ]
     },
     "execution_count": 36,
     "metadata": {},
     "output_type": "execute_result"
    }
   ],
   "source": [
    "# Total number of instances\n",
    "len(new_data)"
   ]
  },
  {
   "cell_type": "code",
   "execution_count": 37,
   "metadata": {},
   "outputs": [],
   "source": [
    "# Tokenize sentences\n",
    "new_data_words = sentence_to_words(new_data)"
   ]
  },
  {
   "cell_type": "code",
   "execution_count": 38,
   "metadata": {},
   "outputs": [
    {
     "data": {
      "text/plain": [
       "107"
      ]
     },
     "execution_count": 38,
     "metadata": {},
     "output_type": "execute_result"
    }
   ],
   "source": [
    "# Length of list of first instance\n",
    "len(new_data_words[0])"
   ]
  },
  {
   "cell_type": "code",
   "execution_count": 39,
   "metadata": {},
   "outputs": [],
   "source": [
    "# Add POS tag. Here, we will not filter tags with nouns.\n",
    "# Before filtering the tags, we will perform cleaning as required in the assignment.\n",
    "# https://www.nltk.org/book/ch05.html\n",
    "new_data_words_pos = add_pos_tag(new_data_words)"
   ]
  },
  {
   "cell_type": "code",
   "execution_count": 40,
   "metadata": {},
   "outputs": [
    {
     "name": "stdout",
     "output_type": "stream",
     "text": [
      "[('my', 'PRP$'), ('point', 'NN'), ('is', 'VBZ'), ('that', 'IN'), ('you', 'PRP'), ('set', 'VBP'), ('up', 'RP'), ('your', 'PRP$'), ('views', 'NNS'), ('as', 'IN'), ('the', 'DT'), ('only', 'JJ'), ('way', 'NN'), ('to', 'TO'), ('believe', 'VB'), ('saying', 'VBG'), ('that', 'IN'), ('all', 'DT'), ('eveil', 'NN'), ('in', 'IN'), ('this', 'DT'), ('world', 'NN'), ('is', 'VBZ'), ('caused', 'VBN'), ('by', 'IN'), ('atheism', 'NN'), ('is', 'VBZ'), ('ridiculous', 'JJ'), ('and', 'CC'), ('counterproductive', 'JJ'), ('to', 'TO'), ('dialogue', 'VB'), ('in', 'IN'), ('this', 'DT'), ('newsgroups', 'NNS'), ('see', 'VBP'), ('in', 'IN'), ('your', 'PRP$'), ('posts', 'NNS'), ('spirit', 'NN'), ('of', 'IN'), ('condemnation', 'NN'), ('of', 'IN'), ('the', 'DT'), ('atheists', 'NNS'), ('in', 'IN'), ('this', 'DT'), ('newsgroup', 'NN'), ('bacause', 'IN'), ('they', 'PRP'), ('don', 'VBP'), ('believe', 'VBP'), ('exactly', 'RB'), ('as', 'IN'), ('you', 'PRP'), ('do', 'VBP'), ('if', 'IN'), ('you', 'PRP'), ('here', 'RB'), ('to', 'TO'), ('try', 'VB'), ('to', 'TO'), ('convert', 'VB'), ('the', 'DT'), ('atheists', 'NNS'), ('here', 'RB'), ('you', 'PRP'), ('failing', 'VBG'), ('miserably', 'RB'), ('who', 'WP'), ('wants', 'VBZ'), ('to', 'TO'), ('be', 'VB'), ('in', 'IN'), ('position', 'NN'), ('of', 'IN'), ('constantly', 'RB'), ('defending', 'VBG'), ('themselves', 'PRP'), ('agaist', 'JJ'), ('insulting', 'VBG'), ('attacks', 'NNS'), ('like', 'IN'), ('you', 'PRP'), ('seem', 'VBP'), ('to', 'TO'), ('like', 'VB'), ('to', 'TO'), ('do', 'VB'), ('sorry', 'VB'), ('you', 'PRP'), ('so', 'RB'), ('blind', 'VB'), ('that', 'IN'), ('you', 'PRP'), ('did', 'VBD'), ('get', 'VB'), ('the', 'DT'), ('messgae', 'NN'), ('in', 'IN'), ('the', 'DT'), ('quote', 'NN'), ('everyone', 'NN'), ('else', 'RB'), ('has', 'VBZ'), ('seemed', 'VBN'), ('to', 'TO')]\n"
     ]
    }
   ],
   "source": [
    "# First instance\n",
    "print(new_data_words_pos[0])"
   ]
  },
  {
   "cell_type": "code",
   "execution_count": 41,
   "metadata": {},
   "outputs": [],
   "source": [
    "# Let's remove stop words now. The step will be slightly different from previous step \n",
    "# as the data contains POS tag and we need to parse data for only words.\n",
    "stop_words = stopwords.words()\n",
    "def remove_stopwords(texts):\n",
    "    return [[word for word in doc if word[0] not in stop_words] for doc in texts]\n",
    "new_data_words_nostop_words = remove_stopwords(new_data_words_pos)"
   ]
  },
  {
   "cell_type": "code",
   "execution_count": 42,
   "metadata": {},
   "outputs": [
    {
     "data": {
      "text/plain": [
       "46"
      ]
     },
     "execution_count": 42,
     "metadata": {},
     "output_type": "execute_result"
    }
   ],
   "source": [
    "# Length of first instance. It is decreased after removing stop words.\n",
    "len(new_data_words_nostop_words[0])"
   ]
  },
  {
   "cell_type": "code",
   "execution_count": 43,
   "metadata": {},
   "outputs": [],
   "source": [
    "# Stemming the words.\n",
    "# Here, we will keep only words in the list and perform POS operation later again\n",
    "# because the POS tag may change for the stemmed word.\n",
    "# http://www.nltk.org/howto/stem.html\n",
    "ps = PorterStemmer()\n",
    "def stem_words(texts):\n",
    "    build_list = []\n",
    "    for doc in texts:\n",
    "        new_list = []\n",
    "        for word in doc:\n",
    "            new_list.append(ps.stem(word[0]))\n",
    "        build_list.append(new_list)\n",
    "    return build_list\n",
    "new_data_words_nostops = stem_words(new_data_words_nostop_words)"
   ]
  },
  {
   "cell_type": "code",
   "execution_count": 44,
   "metadata": {},
   "outputs": [],
   "source": [
    "# Now, let's perform POS tagging on the stemmed data. \n",
    "# We will also filter the data to keep only nouns in the data.\n",
    "# We will only keep words into the list because POS tag is not required now \n",
    "# for further operation.\n",
    "# https://www.nltk.org/book/ch05.html\n",
    "# https://www.ling.upenn.edu/courses/Fall_2003/ling001/penn_treebank_pos.html\n",
    "def filter_pos_tag(texts):\n",
    "    build_list = []   # this list will be returned\n",
    "    for doc in texts:\n",
    "        new_list = nltk.pos_tag(doc)\n",
    "        make_list = []\n",
    "        for word in new_list:\n",
    "            if word[1] == 'NN' or word[1] == 'NNS' or word[1] == 'NNP' or word[1] == 'NNPS':\n",
    "                make_list.append(word[0])\n",
    "        build_list.append(make_list)\n",
    "    return build_list\n",
    "new_data_words_with_nouns = filter_pos_tag(new_data_words_nostops)"
   ]
  },
  {
   "cell_type": "code",
   "execution_count": 45,
   "metadata": {},
   "outputs": [
    {
     "data": {
      "text/plain": [
       "32"
      ]
     },
     "execution_count": 45,
     "metadata": {},
     "output_type": "execute_result"
    }
   ],
   "source": [
    "# Length of list of first instance. We can see that the number of words in first instance are\n",
    "# decreased because we are keeping only nouns.\n",
    "len(new_data_words_with_nouns[0])"
   ]
  },
  {
   "cell_type": "code",
   "execution_count": 46,
   "metadata": {},
   "outputs": [
    {
     "name": "stdout",
     "output_type": "stream",
     "text": [
      "['point', 'view', 'way', 'believ', 'world', 'caus', 'atheism', 'ridicul', 'counterproduct', 'dialogu', 'newsgroup', 'post', 'spirit', 'condemn', 'atheist', 'newsgroup', 'bacaus', 'believ', 'exactli', 'tri', 'atheist', 'miser', 'posit', 'constantli', 'agaist', 'insult', 'attack', 'sorri', 'blind', 'quot', 'everyon', 'els']\n"
     ]
    }
   ],
   "source": [
    "# Sample list of first instance.\n",
    "print(new_data_words_with_nouns[0])"
   ]
  },
  {
   "cell_type": "code",
   "execution_count": 47,
   "metadata": {},
   "outputs": [
    {
     "data": {
      "text/plain": [
       "199652"
      ]
     },
     "execution_count": 47,
     "metadata": {},
     "output_type": "execute_result"
    }
   ],
   "source": [
    "# Let's check how many total words are there in list\n",
    "new_join_list = join_list(new_data_words_with_nouns)\n",
    "len(new_join_list)"
   ]
  },
  {
   "cell_type": "code",
   "execution_count": 48,
   "metadata": {},
   "outputs": [],
   "source": [
    "# Now, to test the models, we need to combine elements of each list to string. \n",
    "# It is similar to previous steps.\n",
    "new_data_words_nostops = make_string_per_list(new_data_words_with_nouns)"
   ]
  },
  {
   "cell_type": "code",
   "execution_count": 49,
   "metadata": {},
   "outputs": [
    {
     "data": {
      "text/plain": [
       "'point view way believ world caus atheism ridicul counterproduct dialogu newsgroup post spirit condemn atheist newsgroup bacaus believ exactli tri atheist miser posit constantli agaist insult attack sorri blind quot everyon els'"
      ]
     },
     "execution_count": 49,
     "metadata": {},
     "output_type": "execute_result"
    }
   ],
   "source": [
    "# Sample first element. It indicates that the elements are combined into one string.\n",
    "new_data_words_nostops[0]"
   ]
  },
  {
   "cell_type": "code",
   "execution_count": 50,
   "metadata": {},
   "outputs": [
    {
     "data": {
      "text/plain": [
       "(3387, 16702)"
      ]
     },
     "execution_count": 50,
     "metadata": {},
     "output_type": "execute_result"
    }
   ],
   "source": [
    "# Let's apply CountVectorizer as performed in previous section.\n",
    "# https://scikit-learn.org/stable/tutorial/text_analytics/working_with_text_data.html\n",
    "count_vect = CountVectorizer()\n",
    "X_train_counts = count_vect.fit_transform(new_data_words_nostops)\n",
    "X_train_counts.shape"
   ]
  },
  {
   "cell_type": "code",
   "execution_count": 51,
   "metadata": {},
   "outputs": [
    {
     "data": {
      "text/plain": [
       "(3387, 16702)"
      ]
     },
     "execution_count": 51,
     "metadata": {},
     "output_type": "execute_result"
    }
   ],
   "source": [
    "# Let's apply TfidfTransformer on CountVectorizer as performed in previous section.\n",
    "# https://scikit-learn.org/stable/tutorial/text_analytics/working_with_text_data.html\n",
    "tfidf_transformer = TfidfTransformer()\n",
    "X_train_tfidf = tfidf_transformer.fit_transform(X_train_counts)\n",
    "X_train_tfidf.shape"
   ]
  },
  {
   "cell_type": "code",
   "execution_count": 52,
   "metadata": {},
   "outputs": [],
   "source": [
    "# Split the data into train and test.\n",
    "# https://scikit-learn.org/stable/modules/generated/sklearn.model_selection.train_test_split.html\n",
    "X_train, X_test, y_train, y_test = train_test_split(X_train_tfidf, newsgroups_train.target, \n",
    "                                            test_size = 0.3, random_state = 90)"
   ]
  },
  {
   "cell_type": "code",
   "execution_count": 53,
   "metadata": {},
   "outputs": [
    {
     "name": "stdout",
     "output_type": "stream",
     "text": [
      "Accuracy score on test data (After filtering words - SVC):  0.7935103244837758\n"
     ]
    },
    {
     "data": {
      "image/png": "[encoded data removed]",
      "text/plain": [
       "<Figure size 432x288 with 2 Axes>"
      ]
     },
     "metadata": {
      "needs_background": "light"
     },
     "output_type": "display_data"
    }
   ],
   "source": [
    "# Training SVM and plotting of confusion matrix\n",
    "# https://scikit-learn.org/stable/tutorial/text_analytics/working_with_text_data.html\n",
    "# https://scikit-learn.org/stable/modules/generated/sklearn.metrics.confusion_matrix.html\n",
    "SVC_model_noun = SVC(kernel='linear').fit(X_train, y_train)\n",
    "predicted_svc_noun = SVC_model_noun.predict(X_test)\n",
    "np.mean(predicted_svc_noun == y_test)\n",
    "acc_score_SVC_noun = accuracy_score(y_test, predicted_svc_noun)\n",
    "print(\"Accuracy score on test data (After filtering words - SVC): \", acc_score_SVC_noun)\n",
    "\n",
    "# https://sklearn.org/auto_examples/model_selection/plot_confusion_matrix.html\n",
    "# Compute confusion matrix\n",
    "np.set_printoptions(precision=2)\n",
    "class_names = list(set(newsgroups_train.target))\n",
    "conf_matrix_SVC_noun = confusion_matrix(y_test, predicted_svc_noun)\n",
    "\n",
    "# Plot non-normalized confusion matrix\n",
    "plt.figure()\n",
    "plot_confusion_matrix(conf_matrix_SVC_noun, classes=class_names,\n",
    "                      title='Confusion matrix, SVC after filter')\n",
    "\n",
    "plt.show()"
   ]
  },
  {
   "cell_type": "code",
   "execution_count": 54,
   "metadata": {},
   "outputs": [
    {
     "name": "stdout",
     "output_type": "stream",
     "text": [
      "Accuracy score on test data (After filtering words - multinomialNB):  0.7915437561455261\n"
     ]
    },
    {
     "data": {
      "image/png": "[encoded data removed]",
      "text/plain": [
       "<Figure size 432x288 with 2 Axes>"
      ]
     },
     "metadata": {
      "needs_background": "light"
     },
     "output_type": "display_data"
    }
   ],
   "source": [
    "# Training Multinomial NB and plotting of confusion matrix\n",
    "# https://scikit-learn.org/stable/tutorial/text_analytics/working_with_text_data.html\n",
    "# https://scikit-learn.org/stable/modules/generated/sklearn.metrics.confusion_matrix.html\n",
    "multinomialNB_model_noun = MultinomialNB().fit(X_train, y_train)\n",
    "predicted_multinomialNB_noun = multinomialNB_model_noun.predict(X_test)\n",
    "acc_score_multinomialNB_noun = accuracy_score(y_test, predicted_multinomialNB_noun)\n",
    "print(\"Accuracy score on test data (After filtering words - multinomialNB): \", acc_score_multinomialNB_noun)\n",
    "\n",
    "# https://sklearn.org/auto_examples/model_selection/plot_confusion_matrix.html\n",
    "# Compute confusion matrix\n",
    "np.set_printoptions(precision=2)\n",
    "class_names = list(set(newsgroups_train.target))\n",
    "conf_matrix_multinomialNB_noun = confusion_matrix(y_test, predicted_multinomialNB_noun)\n",
    "\n",
    "# Plot non-normalized confusion matrix\n",
    "plt.figure()\n",
    "plot_confusion_matrix(conf_matrix_multinomialNB_noun, classes=class_names,\n",
    "                      title='Confusion matrix, Multinomial NB after filter')\n",
    "\n",
    "plt.show()"
   ]
  },
  {
   "cell_type": "code",
   "execution_count": 55,
   "metadata": {},
   "outputs": [
    {
     "name": "stdout",
     "output_type": "stream",
     "text": [
      "Accuracy score on test data (After filtering words - linear kernal SVC):  0.7935103244837758\n"
     ]
    },
    {
     "data": {
      "image/png": "[encoded data removed]",
      "text/plain": [
       "<Figure size 432x288 with 2 Axes>"
      ]
     },
     "metadata": {
      "needs_background": "light"
     },
     "output_type": "display_data"
    }
   ],
   "source": [
    "# Changing of kernel in SVM.\n",
    "# Now, let's change kernel of SVM and check what happens with the accuracy and confusion matrix.\n",
    "# First let's change kernel to linear.\n",
    "# https://scikit-learn.org/stable/modules/generated/sklearn.svm.SVC.html\n",
    "SVC_linear_kernal_model_noun = SVC(kernel='linear').fit(X_train, y_train)\n",
    "predicted_linear_kernal_svc_noun = SVC_linear_kernal_model_noun.predict(X_test)\n",
    "np.mean(predicted_linear_kernal_svc_noun == y_test)\n",
    "acc_score_linear_kernal_svc_noun = accuracy_score(y_test, predicted_linear_kernal_svc_noun)\n",
    "print(\"Accuracy score on test data (After filtering words - linear kernal SVC): \", acc_score_linear_kernal_svc_noun)\n",
    "\n",
    "# https://sklearn.org/auto_examples/model_selection/plot_confusion_matrix.html\n",
    "# Compute confusion matrix\n",
    "np.set_printoptions(precision=2)\n",
    "class_names = list(set(newsgroups_train.target))\n",
    "conf_matrix_linear_kernal_svc_noun = confusion_matrix(y_test, predicted_linear_kernal_svc_noun)\n",
    "\n",
    "# Plot non-normalized confusion matrix\n",
    "plt.figure()\n",
    "plot_confusion_matrix(conf_matrix_linear_kernal_svc_noun, classes=class_names,\n",
    "                      title='Confusion matrix, SVC after filter, linear kernel')\n",
    "\n",
    "plt.show()"
   ]
  },
  {
   "cell_type": "code",
   "execution_count": 56,
   "metadata": {},
   "outputs": [
    {
     "name": "stderr",
     "output_type": "stream",
     "text": [
      "E:\\Anaconda\\lib\\site-packages\\sklearn\\svm\\base.py:196: FutureWarning: The default value of gamma will change from 'auto' to 'scale' in version 0.22 to account better for unscaled features. Set gamma explicitly to 'auto' or 'scale' to avoid this warning.\n",
      "  \"avoid this warning.\", FutureWarning)\n"
     ]
    },
    {
     "name": "stdout",
     "output_type": "stream",
     "text": [
      "Accuracy score on test data (After filtering words - rbf kernal SVC):  0.2920353982300885\n"
     ]
    },
    {
     "data": {
      "image/png": "[encoded data removed]",
      "text/plain": [
       "<Figure size 432x288 with 2 Axes>"
      ]
     },
     "metadata": {
      "needs_background": "light"
     },
     "output_type": "display_data"
    }
   ],
   "source": [
    "# Now, let's change kernel of SVM and check what happens with the accuracy and confusion matrix.\n",
    "# Let's change kernel to rbf.\n",
    "# https://scikit-learn.org/stable/modules/generated/sklearn.svm.SVC.html\n",
    "SVC_rbf_kernal_model_noun = SVC(kernel='rbf').fit(X_train, y_train)\n",
    "predicted_rbf_kernal_svc_noun = SVC_rbf_kernal_model_noun.predict(X_test)\n",
    "np.mean(predicted_rbf_kernal_svc_noun == y_test)\n",
    "acc_score_rbf_kernal_svc_noun = accuracy_score(y_test, predicted_rbf_kernal_svc_noun)\n",
    "print(\"Accuracy score on test data (After filtering words - rbf kernal SVC): \", acc_score_rbf_kernal_svc_noun)\n",
    "\n",
    "# https://sklearn.org/auto_examples/model_selection/plot_confusion_matrix.html\n",
    "# Compute confusion matrix\n",
    "np.set_printoptions(precision=2)\n",
    "class_names = list(set(newsgroups_train.target))\n",
    "conf_matrix_rbf_kernal_svc_noun = confusion_matrix(y_test, predicted_rbf_kernal_svc_noun)\n",
    "\n",
    "# Plot non-normalized confusion matrix\n",
    "plt.figure()\n",
    "plot_confusion_matrix(conf_matrix_rbf_kernal_svc_noun, classes=class_names,\n",
    "                      title='Confusion matrix, SVC after filter, rbf kernel')\n",
    "\n",
    "plt.show()"
   ]
  },
  {
   "cell_type": "code",
   "execution_count": 57,
   "metadata": {},
   "outputs": [
    {
     "name": "stdout",
     "output_type": "stream",
     "text": [
      "Accuracy score on test data (After filtering words - sigmoid kernal SVC):  0.2920353982300885\n"
     ]
    },
    {
     "data": {
      "image/png": "[encoded data removed]",
      "text/plain": [
       "<Figure size 432x288 with 2 Axes>"
      ]
     },
     "metadata": {
      "needs_background": "light"
     },
     "output_type": "display_data"
    }
   ],
   "source": [
    "# Now, let's change kernel of SVM and check what happens with the accuracy and confusion matrix.\n",
    "# Let's change kernel to sigmoid.\n",
    "# https://scikit-learn.org/stable/modules/generated/sklearn.svm.SVC.html\n",
    "SVC_sigmoid_kernal_model_noun = SVC(kernel='sigmoid').fit(X_train, y_train)\n",
    "predicted_sigmoid_kernal_svc_noun = SVC_sigmoid_kernal_model_noun.predict(X_test)\n",
    "np.mean(predicted_sigmoid_kernal_svc_noun == y_test)\n",
    "acc_score_sigmoid_kernal_svc_noun = accuracy_score(y_test, predicted_sigmoid_kernal_svc_noun)\n",
    "print(\"Accuracy score on test data (After filtering words - sigmoid kernal SVC): \", acc_score_sigmoid_kernal_svc_noun)\n",
    "\n",
    "# https://sklearn.org/auto_examples/model_selection/plot_confusion_matrix.html\n",
    "# Compute confusion matrix\n",
    "np.set_printoptions(precision=2)\n",
    "class_names = list(set(newsgroups_train.target))\n",
    "conf_matrix_sigmoid_kernal_svc_noun = confusion_matrix(y_test, predicted_sigmoid_kernal_svc_noun)\n",
    "\n",
    "# Plot non-normalized confusion matrix\n",
    "plt.figure()\n",
    "plot_confusion_matrix(conf_matrix_sigmoid_kernal_svc_noun, classes=class_names,\n",
    "                      title='Confusion matrix, SVC after filter, sigmoid kernel')\n",
    "\n",
    "plt.show()"
   ]
  },
  {
   "cell_type": "markdown",
   "metadata": {},
   "source": [
    "### comparison of results\n",
    "\n",
    "#### The accuracy scores\n",
    "Before filtering words for nouns\n",
    "\n",
    "SVM accuracy: 0.8328416912487709\n",
    "\n",
    "Multinomial NB accuracy:  0.8062930186823992\n",
    "\n",
    "After filtering words to keep nouns\n",
    "\n",
    "SVM accuracy: 0.7935103244837758\n",
    "\n",
    "Multinomial NB accuracy: 0.7915437561455261\n",
    "\n",
    "It was observed that accuracy for SVM decreased around 4% after filtering nouns from words. Similarly, in Multinomial NB, the accuracy is decreased to around 1%. Thus, the filtering of words to keep nouns only did not make any significant changes in the accuracy of Multinomial NB model. But it resulted in considerable decrease in SVM model.\n",
    "\n",
    "#### The size of vocabulary\n",
    "Before filtering words for nouns: 351478\n",
    "\n",
    "After filtering words to keep nouns: 199652\n",
    "\n",
    "We checked total number of words in list after joining the lists. The checking was performed in previous steps as shown in above cells. The number of words in the vocabulary are as mentioned here. It is observed that the vocabulary size was reduced significantly. The data was reduced to around 57% (around 43% words removed)."
   ]
  },
  {
   "cell_type": "code",
   "execution_count": null,
   "metadata": {},
   "outputs": [],
   "source": []
  }
 ],
 "metadata": {
  "kernelspec": {
   "display_name": "Python 3",
   "language": "python",
   "name": "python3"
  },
  "language_info": {
   "codemirror_mode": {
    "name": "ipython",
    "version": 3
   },
   "file_extension": ".py",
   "mimetype": "text/x-python",
   "name": "python",
   "nbconvert_exporter": "python",
   "pygments_lexer": "ipython3",
   "version": "3.7.3"
  }
 },
 "nbformat": 4,
 "nbformat_minor": 2
}
